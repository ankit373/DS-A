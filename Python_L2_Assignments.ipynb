{
  "nbformat": 4,
  "nbformat_minor": 0,
  "metadata": {
    "kernelspec": {
      "display_name": "Python 3",
      "language": "python",
      "name": "python3"
    },
    "language_info": {
      "codemirror_mode": {
        "name": "ipython",
        "version": 3
      },
      "file_extension": ".py",
      "mimetype": "text/x-python",
      "name": "python",
      "nbconvert_exporter": "python",
      "pygments_lexer": "ipython3",
      "version": "3.7.3"
    },
    "colab": {
      "name": "Untitled.ipynb",
      "provenance": []
    }
  },
  "cells": [
    {
      "cell_type": "code",
      "metadata": {
        "id": "9BDqEFKXOyhF",
        "colab_type": "code",
        "colab": {}
      },
      "source": [
        ""
      ],
      "execution_count": 0,
      "outputs": []
    },
    {
      "cell_type": "markdown",
      "metadata": {
        "id": "eBLn8ukdQceA",
        "colab_type": "text"
      },
      "source": [
        "TO Do:  Thread \n",
        "        Sockets\n",
        "        Time Modules-> Datetime and Calender\n",
        "        Function Decorators\n",
        "        \n"
      ]
    },
    {
      "cell_type": "markdown",
      "metadata": {
        "id": "Kd2aX89ush08",
        "colab_type": "text"
      },
      "source": [
        "Assignment 1:\n",
        "\n",
        "To implement a Client server module in Python using threads, to handle multiple client connections and to send and receive messages\n",
        "\n",
        "Details:\n",
        "\n",
        " The application consists of 2 programs, 1 to simulate a server and the other to simulate a client.\n",
        "\n",
        " The server program should open a socket on a port and listen to messages from the client\n",
        "\n",
        " It should then echo a reply on receipt of message from client Approach\n",
        "\n",
        " Simulate a server using socket, thread and time modules and use the basic server calls()\n",
        "\n",
        "- Socket()\n",
        "- Bind ()\n",
        "- Listen()\n",
        "\n",
        " Spawn a thread to handle each new connection to client\n",
        "\n",
        " The EOL should mark the end of each message for client program when run\n",
        "\n",
        " Run each instance of client from a new command prompt window and the server from\n",
        "yet another, to simulate the client server model\n",
        "\n",
        " Create new Exceptions called “Server Error” , “Client Error”, “Transmission Error” in Python for handling any connection issues.\n",
        "\n",
        " Create an Objects using Object oriented approach in Python to exchange data between Client and Server after establishing the connection. Python programs running on Client and Server should exchange data objects.\n",
        "\n",
        " Use the concept of function decorators for each thread and enhance it with logging client sever connection details.\n"
      ]
    },
    {
      "cell_type": "markdown",
      "metadata": {
        "id": "_Qyrv4O7tJVM",
        "colab_type": "text"
      },
      "source": [
        "Socket Programming-> It helps us to connect a client to a server. Client is message sender and receiver and server is just a listener that works on data sent by client.\n",
        "\n",
        "Multi-threading Modules :\n",
        "A _thread module & threading module is used for multi-threading in python, these modules help in synchronization and provide a lock to a thread in use."
      ]
    },
    {
      "cell_type": "code",
      "metadata": {
        "id": "H4Om-1rxt2G9",
        "colab_type": "code",
        "colab": {}
      },
      "source": [
        "from _thread import *\n",
        "import threading"
      ],
      "execution_count": 0,
      "outputs": []
    },
    {
      "cell_type": "markdown",
      "metadata": {
        "id": "jUFCaW4UuBfT",
        "colab_type": "text"
      },
      "source": [
        "A lock has two states, “locked” or “unlocked”. It has two basic methods acquire() and release(). When the state is unlocked print_lock.acquire() is used to change state to locked and print_lock.release() is used to change state to unlock.\n",
        "\n",
        "The function thread.start_new_thread() is used to start a new thread and return its identifier. The first argument is the function to call and its second argument is a tuple containing the positional list of arguments."
      ]
    },
    {
      "cell_type": "code",
      "metadata": {
        "id": "v8s4NQAEuC8V",
        "colab_type": "code",
        "colab": {}
      },
      "source": [
        "print_lock = threading.Lock()"
      ],
      "execution_count": 0,
      "outputs": []
    }
  ]
}