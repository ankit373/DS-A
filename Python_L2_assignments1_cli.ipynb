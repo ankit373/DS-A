{
  "nbformat": 4,
  "nbformat_minor": 0,
  "metadata": {
    "colab": {
      "name": "Python_L2_assignments1_cli.ipynb",
      "provenance": [],
      "authorship_tag": "ABX9TyOW+ojZYqeYmF92nIG+v3bD",
      "include_colab_link": true
    },
    "kernelspec": {
      "name": "python3",
      "display_name": "Python 3"
    }
  },
  "cells": [
    {
      "cell_type": "markdown",
      "metadata": {
        "id": "view-in-github",
        "colab_type": "text"
      },
      "source": [
        "<a href=\"https://colab.research.google.com/github/ankit373/DS-A/blob/master/Python_L2_assignments1_cli.ipynb\" target=\"_parent\"><img src=\"https://colab.research.google.com/assets/colab-badge.svg\" alt=\"Open In Colab\"/></a>"
      ]
    },
    {
      "cell_type": "code",
      "metadata": {
        "id": "jmsm8ih5yzwD",
        "colab_type": "code",
        "colab": {
          "base_uri": "https://localhost:8080/",
          "height": 305
        },
        "outputId": "e744fcfc-c0ef-4527-a20f-beb0237f420e"
      },
      "source": [
        "import socket \n",
        "  \n",
        "  \n",
        "def Main(): \n",
        "    # local host IP '127.0.0.1' \n",
        "    host = '127.0.0.1' \n",
        "  \n",
        "    # Define the port on which you want to connect \n",
        "    port = 5555\n",
        "  \n",
        "    s = socket.socket(socket.AF_INET,socket.SOCK_STREAM) \n",
        "  \n",
        "    # connect to server on local computer \n",
        "    s.connect((host,port)) \n",
        "  \n",
        "    # message you send to server \n",
        "    message = \"Thank you for Connecting\"\n",
        "    while True: \n",
        "  \n",
        "        # message sent to server \n",
        "        s.send(message.encode('ascii')) \n",
        "  \n",
        "        # messaga received from server \n",
        "        data = s.recv(1024) \n",
        "  \n",
        "        # print the received message \n",
        "        # here it would be a reverse of sent message \n",
        "        print('Received from the server :',str(data.decode('ascii'))) \n",
        "  \n",
        "        # ask the client whether he wants to continue \n",
        "        ans = input('\\nDo you want to continue(y/n) :') \n",
        "        if ans == 'y': \n",
        "            continue\n",
        "        else: \n",
        "            break\n",
        "    # close the connection \n",
        "    s.close() \n",
        "  \n",
        "if __name__ == '__main__': \n",
        "    Main() "
      ],
      "execution_count": 6,
      "outputs": [
        {
          "output_type": "error",
          "ename": "ConnectionRefusedError",
          "evalue": "ignored",
          "traceback": [
            "\u001b[0;31m---------------------------------------------------------------------------\u001b[0m",
            "\u001b[0;31mConnectionRefusedError\u001b[0m                    Traceback (most recent call last)",
            "\u001b[0;32m<ipython-input-6-86019d14fac2>\u001b[0m in \u001b[0;36m<module>\u001b[0;34m()\u001b[0m\n\u001b[1;32m     38\u001b[0m \u001b[0;34m\u001b[0m\u001b[0m\n\u001b[1;32m     39\u001b[0m \u001b[0;32mif\u001b[0m \u001b[0m__name__\u001b[0m \u001b[0;34m==\u001b[0m \u001b[0;34m'__main__'\u001b[0m\u001b[0;34m:\u001b[0m\u001b[0;34m\u001b[0m\u001b[0;34m\u001b[0m\u001b[0m\n\u001b[0;32m---> 40\u001b[0;31m     \u001b[0mMain\u001b[0m\u001b[0;34m(\u001b[0m\u001b[0;34m)\u001b[0m\u001b[0;34m\u001b[0m\u001b[0;34m\u001b[0m\u001b[0m\n\u001b[0m",
            "\u001b[0;32m<ipython-input-6-86019d14fac2>\u001b[0m in \u001b[0;36mMain\u001b[0;34m()\u001b[0m\n\u001b[1;32m     12\u001b[0m \u001b[0;34m\u001b[0m\u001b[0m\n\u001b[1;32m     13\u001b[0m     \u001b[0;31m# connect to server on local computer\u001b[0m\u001b[0;34m\u001b[0m\u001b[0;34m\u001b[0m\u001b[0;34m\u001b[0m\u001b[0m\n\u001b[0;32m---> 14\u001b[0;31m     \u001b[0ms\u001b[0m\u001b[0;34m.\u001b[0m\u001b[0mconnect\u001b[0m\u001b[0;34m(\u001b[0m\u001b[0;34m(\u001b[0m\u001b[0mhost\u001b[0m\u001b[0;34m,\u001b[0m\u001b[0mport\u001b[0m\u001b[0;34m)\u001b[0m\u001b[0;34m)\u001b[0m\u001b[0;34m\u001b[0m\u001b[0;34m\u001b[0m\u001b[0m\n\u001b[0m\u001b[1;32m     15\u001b[0m \u001b[0;34m\u001b[0m\u001b[0m\n\u001b[1;32m     16\u001b[0m     \u001b[0;31m# message you send to server\u001b[0m\u001b[0;34m\u001b[0m\u001b[0;34m\u001b[0m\u001b[0;34m\u001b[0m\u001b[0m\n",
            "\u001b[0;31mConnectionRefusedError\u001b[0m: [Errno 111] Connection refused"
          ]
        }
      ]
    },
    {
      "cell_type": "code",
      "metadata": {
        "id": "Z1dV46sd9ZL3",
        "colab_type": "code",
        "colab": {}
      },
      "source": [
        "import socket \n",
        "\n",
        "host = socket.gethostname() \n",
        "port = 2004\n",
        "BUFFER_SIZE = 2000 \n",
        "MESSAGE = input(\"ClientA: Enter message/ Enter exit:\").encode('ascii')\n",
        " \n",
        "ClientA = socket.socket(socket.AF_INET, socket.SOCK_STREAM) \n",
        "ClientA.connect((host, port))\n",
        "\n",
        "while MESSAGE != 'exit':\n",
        "    ClientA.send(MESSAGE)     \n",
        "    data = ClientA.recv(BUFFER_SIZE).decode('ascii')\n",
        "    print (\" Server received data:\", data)\n",
        "    MESSAGE = input(\"ClientA: Enter message to continue/ Enter exit:\").encode('ascii')\n",
        "\n",
        "ClientA.close()\n"
      ],
      "execution_count": 0,
      "outputs": []
    }
  ]
}