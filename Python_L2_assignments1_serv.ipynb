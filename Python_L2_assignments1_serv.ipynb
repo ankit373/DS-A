{
  "nbformat": 4,
  "nbformat_minor": 0,
  "metadata": {
    "kernelspec": {
      "display_name": "Python 3",
      "language": "python",
      "name": "python3"
    },
    "language_info": {
      "codemirror_mode": {
        "name": "ipython",
        "version": 3
      },
      "file_extension": ".py",
      "mimetype": "text/x-python",
      "name": "python",
      "nbconvert_exporter": "python",
      "pygments_lexer": "ipython3",
      "version": "3.7.3"
    },
    "colab": {
      "name": "Python_L2_assignments1_serv.ipynb",
      "provenance": [],
      "include_colab_link": true
    }
  },
  "cells": [
    {
      "cell_type": "markdown",
      "metadata": {
        "id": "view-in-github",
        "colab_type": "text"
      },
      "source": [
        "<a href=\"https://colab.research.google.com/github/ankit373/DS-A/blob/master/Python_L2_assignments1_serv.ipynb\" target=\"_parent\"><img src=\"https://colab.research.google.com/assets/colab-badge.svg\" alt=\"Open In Colab\"/></a>"
      ]
    },
    {
      "cell_type": "code",
      "metadata": {
        "id": "9BDqEFKXOyhF",
        "colab_type": "code",
        "colab": {}
      },
      "source": [
        ""
      ],
      "execution_count": 0,
      "outputs": []
    },
    {
      "cell_type": "markdown",
      "metadata": {
        "id": "eBLn8ukdQceA",
        "colab_type": "text"
      },
      "source": [
        "TO Do:  Thread \n",
        "        Sockets\n",
        "        Time Modules-> Datetime and Calender\n",
        "        Function Decorators\n",
        "        \n"
      ]
    },
    {
      "cell_type": "markdown",
      "metadata": {
        "id": "Kd2aX89ush08",
        "colab_type": "text"
      },
      "source": [
        "Assignment 1:\n",
        "\n",
        "To implement a Client server module in Python using threads, to handle multiple client connections and to send and receive messages\n",
        "\n",
        "Details:\n",
        "\n",
        " The application consists of 2 programs, 1 to simulate a server and the other to simulate a client.\n",
        "\n",
        " The server program should open a socket on a port and listen to messages from the client\n",
        "\n",
        " It should then echo a reply on receipt of message from client Approach\n",
        "\n",
        " Simulate a server using socket, thread and time modules and use the basic server calls()\n",
        "\n",
        "- Socket()\n",
        "- Bind ()\n",
        "- Listen()\n",
        "\n",
        " Spawn a thread to handle each new connection to client\n",
        "\n",
        " The EOL should mark the end of each message for client program when run\n",
        "\n",
        " Run each instance of client from a new command prompt window and the server from\n",
        "yet another, to simulate the client server model\n",
        "\n",
        " Create new Exceptions called “Server Error” , “Client Error”, “Transmission Error” in Python for handling any connection issues.\n",
        "\n",
        " Create an Objects using Object oriented approach in Python to exchange data between Client and Server after establishing the connection. Python programs running on Client and Server should exchange data objects.\n",
        "\n",
        " Use the concept of function decorators for each thread and enhance it with logging client sever connection details.\n"
      ]
    },
    {
      "cell_type": "markdown",
      "metadata": {
        "id": "_Qyrv4O7tJVM",
        "colab_type": "text"
      },
      "source": [
        "Socket Programming-> It helps us to connect a client to a server. Client is message sender and receiver and server is just a listener that works on data sent by client.\n",
        "\n",
        "Multi-threading Modules :\n",
        "A _thread module & threading module is used for multi-threading in python, these modules help in synchronization and provide a lock to a thread in use."
      ]
    },
    {
      "cell_type": "code",
      "metadata": {
        "id": "H4Om-1rxt2G9",
        "colab_type": "code",
        "colab": {}
      },
      "source": [
        "from _thread import *\n",
        "import threading"
      ],
      "execution_count": 0,
      "outputs": []
    },
    {
      "cell_type": "markdown",
      "metadata": {
        "id": "jUFCaW4UuBfT",
        "colab_type": "text"
      },
      "source": [
        "A lock has two states, “locked” or “unlocked”. It has two basic methods acquire() and release(). When the state is unlocked print_lock.acquire() is used to change state to locked and print_lock.release() is used to change state to unlock.\n",
        "\n"
      ]
    },
    {
      "cell_type": "code",
      "metadata": {
        "id": "v8s4NQAEuC8V",
        "colab_type": "code",
        "colab": {}
      },
      "source": [
        "print_lock = threading.Lock()"
      ],
      "execution_count": 0,
      "outputs": []
    },
    {
      "cell_type": "markdown",
      "metadata": {
        "id": "Muf6xcHdu5eZ",
        "colab_type": "text"
      },
      "source": [
        "The function thread.start_new_thread() is used to start a new thread and return its identifier. The first argument is the function to call and its second argument is a tuple containing the positional list of arguments."
      ]
    },
    {
      "cell_type": "code",
      "metadata": {
        "id": "wvUAuQFXvk5p",
        "colab_type": "code",
        "colab": {
          "base_uri": "https://localhost:8080/",
          "height": 50
        },
        "outputId": "696f80e5-f1f3-4645-e950-b2be665d9044"
      },
      "source": [
        "import socket \n",
        "  \n",
        "# import thread module \n",
        "from _thread import *\n",
        "import threading \n",
        "  \n",
        "print_lock = threading.Lock() \n",
        "  \n",
        "# thread function \n",
        "def threaded(c): \n",
        "    while True: \n",
        "  \n",
        "        # data received from client \n",
        "        data = c.recv(1024) \n",
        "        if not data: \n",
        "            print('Bye') \n",
        "              \n",
        "            # lock released on exit \n",
        "            print_lock.release() \n",
        "            break\n",
        "  \n",
        "        # reverse the given string from client \n",
        "        data = data[::-1] \n",
        "  \n",
        "        # send back reversed string to client \n",
        "        c.send(data) \n",
        "  \n",
        "    # connection closed \n",
        "    c.close() \n",
        "  \n",
        "  \n",
        "def Main(): \n",
        "    host = \"\" \n",
        "  \n",
        "    # reverse a port on your computer \n",
        "    # in our case it is 12345 but it \n",
        "    # can be anything \n",
        "    port = 12345\n",
        "    s = socket.socket(socket.AF_INET, socket.SOCK_STREAM) \n",
        "    s.bind((host, port)) \n",
        "    print(\"socket binded to port\", port) \n",
        "  \n",
        "    # put the socket into listening mode \n",
        "    s.listen(5) \n",
        "    print(\"socket is listening\") \n",
        "  \n",
        "    # a forever loop until client wants to exit \n",
        "    while True: \n",
        "  \n",
        "        # establish connection with client \n",
        "        c, addr = s.accept() \n",
        "  \n",
        "        # lock acquired by client \n",
        "        print_lock.acquire() \n",
        "        print('Connected to :', addr[0], ':', addr[1]) \n",
        "  \n",
        "        # Start a new thread and return its identifier \n",
        "        start_new_thread(threaded, (c,)) \n",
        "    s.close() \n",
        "  \n",
        "  \n",
        "if __name__ == '__main__': \n",
        "    Main() "
      ],
      "execution_count": 0,
      "outputs": [
        {
          "output_type": "stream",
          "text": [
            "socket binded to port 12345\n",
            "socket is listening\n"
          ],
          "name": "stdout"
        }
      ]
    }
  ]
}