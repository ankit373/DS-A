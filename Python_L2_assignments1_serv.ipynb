{
  "nbformat": 4,
  "nbformat_minor": 0,
  "metadata": {
    "kernelspec": {
      "display_name": "Python 3",
      "language": "python",
      "name": "python3"
    },
    "language_info": {
      "codemirror_mode": {
        "name": "ipython",
        "version": 3
      },
      "file_extension": ".py",
      "mimetype": "text/x-python",
      "name": "python",
      "nbconvert_exporter": "python",
      "pygments_lexer": "ipython3",
      "version": "3.7.3"
    },
    "colab": {
      "name": "Python_L2_assignments1_serv.ipynb",
      "provenance": [],
      "include_colab_link": true
    }
  },
  "cells": [
    {
      "cell_type": "markdown",
      "metadata": {
        "id": "view-in-github",
        "colab_type": "text"
      },
      "source": [
        "<a href=\"https://colab.research.google.com/github/ankit373/DS-A/blob/master/Python_L2_assignments1_serv.ipynb\" target=\"_parent\"><img src=\"https://colab.research.google.com/assets/colab-badge.svg\" alt=\"Open In Colab\"/></a>"
      ]
    },
    {
      "cell_type": "markdown",
      "metadata": {
        "id": "eBLn8ukdQceA",
        "colab_type": "text"
      },
      "source": [
        "TO Do:  Thread \n",
        "        Sockets\n",
        "        Time Modules-> Datetime and Calender\n",
        "        Function Decorators\n",
        "        \n"
      ]
    },
    {
      "cell_type": "markdown",
      "metadata": {
        "id": "Kd2aX89ush08",
        "colab_type": "text"
      },
      "source": [
        "# Assignment 1:\n",
        "\n",
        "To implement a Client server module in Python using threads, to handle multiple client connections and to send and receive messages\n",
        "\n",
        "## Details:\n",
        "\n",
        " The application consists of 2 programs, 1 to simulate a server and the other to simulate a client.\n",
        "\n",
        " The server program should open a socket on a port and listen to messages from the client\n",
        "\n",
        " It should then echo a reply on receipt of message from client Approach\n",
        "\n",
        " Simulate a server using socket, thread and time modules and use the basic server calls()\n",
        "\n",
        "- Socket()\n",
        "- Bind ()\n",
        "- Listen()\n",
        "\n",
        " Spawn a thread to handle each new connection to client\n",
        "\n",
        " The EOL should mark the end of each message for client program when run\n",
        "\n",
        " Run each instance of client from a new command prompt window and the server from\n",
        "yet another, to simulate the client server model\n",
        "\n",
        " Create new Exceptions called “Server Error” , “Client Error”, “Transmission Error” in Python for handling any connection issues.\n",
        "\n",
        " Create an Objects using Object oriented approach in Python to exchange data between Client and Server after establishing the connection. Python programs running on Client and Server should exchange data objects.\n",
        "\n",
        " Use the concept of function decorators for each thread and enhance it with logging client sever connection details.\n"
      ]
    },
    {
      "cell_type": "markdown",
      "metadata": {
        "id": "_Qyrv4O7tJVM",
        "colab_type": "text"
      },
      "source": [
        "### Socket Programming->\n",
        "It helps us to connect a client to a server. Client is message sender and receiver and server is just a listener that works on data sent by client.\n",
        "\n",
        "### Multi-threading Modules :\n",
        "A _thread module & threading module is used for multi-threading in python, these modules help in synchronization and provide a lock to a thread in use."
      ]
    },
    {
      "cell_type": "code",
      "metadata": {
        "id": "H4Om-1rxt2G9",
        "colab_type": "code",
        "colab": {}
      },
      "source": [
        "from _thread import *\n",
        "import threading\n",
        "import socket "
      ],
      "execution_count": 0,
      "outputs": []
    },
    {
      "cell_type": "markdown",
      "metadata": {
        "id": "jUFCaW4UuBfT",
        "colab_type": "text"
      },
      "source": [
        "A lock has two states, “locked” or “unlocked”. It has two basic methods acquire() and release(). When the state is unlocked print_lock.acquire() is used to change state to locked and print_lock.release() is used to change state to unlock.\n",
        "\n"
      ]
    },
    {
      "cell_type": "code",
      "metadata": {
        "id": "v8s4NQAEuC8V",
        "colab_type": "code",
        "colab": {}
      },
      "source": [
        "print_lock = threading.Lock()\n",
        "\n",
        "    "
      ],
      "execution_count": 0,
      "outputs": []
    },
    {
      "cell_type": "markdown",
      "metadata": {
        "id": "Muf6xcHdu5eZ",
        "colab_type": "text"
      },
      "source": [
        "The function thread.start_new_thread() is used to start a new thread and return its identifier. The first argument is the function to call and its second argument is a tuple containing the positional list of arguments."
      ]
    },
    {
      "cell_type": "markdown",
      "metadata": {
        "id": "UXRb2w0JzS-y",
        "colab_type": "text"
      },
      "source": [
        "### Thread function "
      ]
    },
    {
      "cell_type": "code",
      "metadata": {
        "id": "wvUAuQFXvk5p",
        "colab_type": "code",
        "colab": {}
      },
      "source": [
        "\n",
        "def threaded(c): \n",
        "    while True: \n",
        "  \n",
        "        # data received from client \n",
        "        data = c.recv(1024) \n",
        "        if not data: \n",
        "            print('Bye') \n",
        "              \n",
        "            # lock released on exit \n",
        "            print_lock.release() \n",
        "            break\n",
        "  \n",
        "        # reverse the given string from client \n",
        "        data = data[::-1] \n",
        "  \n",
        "        # send back reversed string to client \n",
        "        c.send(data) \n",
        "  \n",
        "    # connection closed \n",
        "    c.close() \n",
        "  \n",
        "  \n"
      ],
      "execution_count": 0,
      "outputs": []
    },
    {
      "cell_type": "markdown",
      "metadata": {
        "id": "94nQChXmztMU",
        "colab_type": "text"
      },
      "source": [
        "### Main Function"
      ]
    },
    {
      "cell_type": "code",
      "metadata": {
        "id": "L31IUcYIztt6",
        "colab_type": "code",
        "colab": {
          "base_uri": "https://localhost:8080/",
          "height": 377
        },
        "outputId": "7c9e9be4-f952-4411-f528-5e6079bca38f"
      },
      "source": [
        "def Main(): \n",
        "    host = \"\" \n",
        "  \n",
        "    # reverse a port on your computer \n",
        "    # in our case it is 12345 but it \n",
        "    # can be anything \n",
        "    port = 5555\n",
        "    \n",
        "    s = socket.socket(socket.AF_INET, socket.SOCK_STREAM) \n",
        "    s.bind((host, port)) \n",
        "    print(\"socket binded to port\", port) \n",
        "\n",
        "    # put the socket into listening mode \n",
        "    s.listen(5) \n",
        "    print(\"socket is listening\") \n",
        "    p = socket.gethostname()\n",
        "    print(p)\n",
        "    # a forever loop until client wants to exit \n",
        "    while True: \n",
        "  \n",
        "        # establish connection with client \n",
        "        c, addr = s.accept() \n",
        "  \n",
        "        # lock acquired by client \n",
        "        print_lock.acquire() \n",
        "        print('Connected to :', addr[0], ':', addr[1]) \n",
        "  \n",
        "        # Start a new thread and return its identifier \n",
        "        start_new_thread(threaded, (c,)) \n",
        "    s.close() \n",
        "  \n",
        "  \n",
        "if __name__ == '__main__': \n",
        "    Main() "
      ],
      "execution_count": 4,
      "outputs": [
        {
          "output_type": "stream",
          "text": [
            "socket binded to port 5555\n",
            "socket is listening\n",
            "698495330e4b\n"
          ],
          "name": "stdout"
        },
        {
          "output_type": "error",
          "ename": "KeyboardInterrupt",
          "evalue": "ignored",
          "traceback": [
            "\u001b[0;31m---------------------------------------------------------------------------\u001b[0m",
            "\u001b[0;31mKeyboardInterrupt\u001b[0m                         Traceback (most recent call last)",
            "\u001b[0;32m<ipython-input-4-d074af4b0fbd>\u001b[0m in \u001b[0;36m<module>\u001b[0;34m()\u001b[0m\n\u001b[1;32m     32\u001b[0m \u001b[0;34m\u001b[0m\u001b[0m\n\u001b[1;32m     33\u001b[0m \u001b[0;32mif\u001b[0m \u001b[0m__name__\u001b[0m \u001b[0;34m==\u001b[0m \u001b[0;34m'__main__'\u001b[0m\u001b[0;34m:\u001b[0m\u001b[0;34m\u001b[0m\u001b[0;34m\u001b[0m\u001b[0m\n\u001b[0;32m---> 34\u001b[0;31m     \u001b[0mMain\u001b[0m\u001b[0;34m(\u001b[0m\u001b[0;34m)\u001b[0m\u001b[0;34m\u001b[0m\u001b[0;34m\u001b[0m\u001b[0m\n\u001b[0m",
            "\u001b[0;32m<ipython-input-4-d074af4b0fbd>\u001b[0m in \u001b[0;36mMain\u001b[0;34m()\u001b[0m\n\u001b[1;32m     20\u001b[0m \u001b[0;34m\u001b[0m\u001b[0m\n\u001b[1;32m     21\u001b[0m         \u001b[0;31m# establish connection with client\u001b[0m\u001b[0;34m\u001b[0m\u001b[0;34m\u001b[0m\u001b[0;34m\u001b[0m\u001b[0m\n\u001b[0;32m---> 22\u001b[0;31m         \u001b[0mc\u001b[0m\u001b[0;34m,\u001b[0m \u001b[0maddr\u001b[0m \u001b[0;34m=\u001b[0m \u001b[0ms\u001b[0m\u001b[0;34m.\u001b[0m\u001b[0maccept\u001b[0m\u001b[0;34m(\u001b[0m\u001b[0;34m)\u001b[0m\u001b[0;34m\u001b[0m\u001b[0;34m\u001b[0m\u001b[0m\n\u001b[0m\u001b[1;32m     23\u001b[0m \u001b[0;34m\u001b[0m\u001b[0m\n\u001b[1;32m     24\u001b[0m         \u001b[0;31m# lock acquired by client\u001b[0m\u001b[0;34m\u001b[0m\u001b[0;34m\u001b[0m\u001b[0;34m\u001b[0m\u001b[0m\n",
            "\u001b[0;32m/usr/lib/python3.6/socket.py\u001b[0m in \u001b[0;36maccept\u001b[0;34m(self)\u001b[0m\n\u001b[1;32m    203\u001b[0m         \u001b[0mFor\u001b[0m \u001b[0mIP\u001b[0m \u001b[0msockets\u001b[0m\u001b[0;34m,\u001b[0m \u001b[0mthe\u001b[0m \u001b[0maddress\u001b[0m \u001b[0minfo\u001b[0m \u001b[0;32mis\u001b[0m \u001b[0ma\u001b[0m \u001b[0mpair\u001b[0m \u001b[0;34m(\u001b[0m\u001b[0mhostaddr\u001b[0m\u001b[0;34m,\u001b[0m \u001b[0mport\u001b[0m\u001b[0;34m)\u001b[0m\u001b[0;34m.\u001b[0m\u001b[0;34m\u001b[0m\u001b[0;34m\u001b[0m\u001b[0m\n\u001b[1;32m    204\u001b[0m         \"\"\"\n\u001b[0;32m--> 205\u001b[0;31m         \u001b[0mfd\u001b[0m\u001b[0;34m,\u001b[0m \u001b[0maddr\u001b[0m \u001b[0;34m=\u001b[0m \u001b[0mself\u001b[0m\u001b[0;34m.\u001b[0m\u001b[0m_accept\u001b[0m\u001b[0;34m(\u001b[0m\u001b[0;34m)\u001b[0m\u001b[0;34m\u001b[0m\u001b[0;34m\u001b[0m\u001b[0m\n\u001b[0m\u001b[1;32m    206\u001b[0m         \u001b[0;31m# If our type has the SOCK_NONBLOCK flag, we shouldn't pass it onto the\u001b[0m\u001b[0;34m\u001b[0m\u001b[0;34m\u001b[0m\u001b[0;34m\u001b[0m\u001b[0m\n\u001b[1;32m    207\u001b[0m         \u001b[0;31m# new socket. We do not currently allow passing SOCK_NONBLOCK to\u001b[0m\u001b[0;34m\u001b[0m\u001b[0;34m\u001b[0m\u001b[0;34m\u001b[0m\u001b[0m\n",
            "\u001b[0;31mKeyboardInterrupt\u001b[0m: "
          ]
        }
      ]
    },
    {
      "cell_type": "markdown",
      "metadata": {
        "id": "P3mjHQV4zR2A",
        "colab_type": "text"
      },
      "source": [
        "### Another Multithreaded approach using Objects"
      ]
    },
    {
      "cell_type": "code",
      "metadata": {
        "id": "PtyHuQjn8dWV",
        "colab_type": "code",
        "colab": {
          "base_uri": "https://localhost:8080/",
          "height": 223
        },
        "outputId": "5ebe85ae-16d9-4992-8beb-91c5521623da"
      },
      "source": [
        "import socket \n",
        "from threading import Thread \n",
        "#from SocketServer import ThreadingMixIn \n",
        "\n",
        "# Multithreaded Python server : TCP Server Socket Thread Pool\n",
        "class ClientThread(Thread): \n",
        " \n",
        "    def __init__(self,ip,port): \n",
        "        Thread.__init__(self) \n",
        "        self.ip = ip \n",
        "        self.port = port \n",
        "        print(f\"New server socket thread started for {ip} : {str(port)}\")\n",
        "        \n",
        "    def run(self): \n",
        "        while True : \n",
        "            data = conn.recv(2048) \n",
        "            print (\"Server received data:\", data)\n",
        "            MESSAGE = raw_input(\" Enter Response from Server/Enter exit:\")\n",
        "            if MESSAGE == 'exit':\n",
        "                break\n",
        "            conn.send(MESSAGE)  # echo \n",
        "\n",
        "# Multithreaded Python server : TCP Server Socket Program Stub\n",
        "TCP_IP = '0.0.0.0' \n",
        "TCP_PORT = 2004 \n",
        "BUFFER_SIZE = 20  # Usually 1024, but we need quick response \n",
        "\n",
        "tcpServer = socket.socket(socket.AF_INET, socket.SOCK_STREAM) \n",
        "tcpServer.setsockopt(socket.SOL_SOCKET, socket.SO_REUSEADDR, 1) \n",
        "tcpServer.bind((TCP_IP, TCP_PORT)) \n",
        "threads = [] \n",
        " \n",
        "while True: \n",
        "    tcpServer.listen(4) \n",
        "    print (\"Waiting for connections from TCP clients...\")\n",
        "    (conn, (ip,port)) = tcpServer.accept() \n",
        "    newthread = ClientThread(ip,port) \n",
        "    newthread.start() \n",
        "    threads.append(newthread) \n",
        " \n",
        "for t in threads: \n",
        "    t.join() "
      ],
      "execution_count": 6,
      "outputs": [
        {
          "output_type": "error",
          "ename": "OSError",
          "evalue": "ignored",
          "traceback": [
            "\u001b[0;31m---------------------------------------------------------------------------\u001b[0m",
            "\u001b[0;31mOSError\u001b[0m                                   Traceback (most recent call last)",
            "\u001b[0;32m<ipython-input-6-fd8b99f7a1d5>\u001b[0m in \u001b[0;36m<module>\u001b[0;34m()\u001b[0m\n\u001b[1;32m     28\u001b[0m \u001b[0mtcpServer\u001b[0m \u001b[0;34m=\u001b[0m \u001b[0msocket\u001b[0m\u001b[0;34m.\u001b[0m\u001b[0msocket\u001b[0m\u001b[0;34m(\u001b[0m\u001b[0msocket\u001b[0m\u001b[0;34m.\u001b[0m\u001b[0mAF_INET\u001b[0m\u001b[0;34m,\u001b[0m \u001b[0msocket\u001b[0m\u001b[0;34m.\u001b[0m\u001b[0mSOCK_STREAM\u001b[0m\u001b[0;34m)\u001b[0m\u001b[0;34m\u001b[0m\u001b[0;34m\u001b[0m\u001b[0m\n\u001b[1;32m     29\u001b[0m \u001b[0mtcpServer\u001b[0m\u001b[0;34m.\u001b[0m\u001b[0msetsockopt\u001b[0m\u001b[0;34m(\u001b[0m\u001b[0msocket\u001b[0m\u001b[0;34m.\u001b[0m\u001b[0mSOL_SOCKET\u001b[0m\u001b[0;34m,\u001b[0m \u001b[0msocket\u001b[0m\u001b[0;34m.\u001b[0m\u001b[0mSO_REUSEADDR\u001b[0m\u001b[0;34m,\u001b[0m \u001b[0;36m1\u001b[0m\u001b[0;34m)\u001b[0m\u001b[0;34m\u001b[0m\u001b[0;34m\u001b[0m\u001b[0m\n\u001b[0;32m---> 30\u001b[0;31m \u001b[0mtcpServer\u001b[0m\u001b[0;34m.\u001b[0m\u001b[0mbind\u001b[0m\u001b[0;34m(\u001b[0m\u001b[0;34m(\u001b[0m\u001b[0mTCP_IP\u001b[0m\u001b[0;34m,\u001b[0m \u001b[0mTCP_PORT\u001b[0m\u001b[0;34m)\u001b[0m\u001b[0;34m)\u001b[0m\u001b[0;34m\u001b[0m\u001b[0;34m\u001b[0m\u001b[0m\n\u001b[0m\u001b[1;32m     31\u001b[0m \u001b[0mthreads\u001b[0m \u001b[0;34m=\u001b[0m \u001b[0;34m[\u001b[0m\u001b[0;34m]\u001b[0m\u001b[0;34m\u001b[0m\u001b[0;34m\u001b[0m\u001b[0m\n\u001b[1;32m     32\u001b[0m \u001b[0;34m\u001b[0m\u001b[0m\n",
            "\u001b[0;31mOSError\u001b[0m: [Errno 98] Address already in use"
          ]
        }
      ]
    }
  ]
}