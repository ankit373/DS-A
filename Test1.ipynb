{
 "cells": [
  {
   "cell_type": "markdown",
   "metadata": {},
   "source": [
    "## **EX01#**\n",
    "#### *TODO*: Define A control structure that finds the smallest posistive number in in_list and returns the correct smallest number."
   ]
  },
  {
   "cell_type": "code",
   "execution_count": 1,
   "metadata": {},
   "outputs": [
    {
     "name": "stdout",
     "output_type": "stream",
     "text": [
      "1\n",
      "0.11\n"
     ]
    }
   ],
   "source": [
    "def smallest_positive(in_list):\n",
    "    smallest_pos = None\n",
    "    for num in in_list:\n",
    "        if num>0:\n",
    "            if smallest_pos==None or num < smallest_pos:\n",
    "                smallest_pos = num\n",
    "    return(smallest_pos)\n",
    "\n",
    "#testCase1\n",
    "print(smallest_positive([-1, 9, -12, 11, 13, 1, 3 ,6, 8, 9]))\n",
    "#testCase2\n",
    "print(smallest_positive([.72, .2, .11, -.273, 123, 832, 11]))\n"
   ]
  },
  {
   "cell_type": "markdown",
   "metadata": {},
   "source": [
    "## **EX02#**\n",
    "#### *TODO*: Ex uses a data structure that stores semester course info\n",
    "The data structure format is:\n",
    "\n",
    "    { <semester>: {<class>: {<property>: <value1>, <value2>,........},\n",
    "                                        .......},\n",
    "        ........}"
   ]
  },
  {
   "cell_type": "code",
   "execution_count": 2,
   "metadata": {},
   "outputs": [
    {
     "name": "stdout",
     "output_type": "stream",
     "text": [
      "['spring2020', 'fall2020']\n",
      "[]\n"
     ]
    }
   ],
   "source": [
    "courses = {\n",
    "    'spring2020': { 'cs101': {'name': 'Building a Search Engine',\n",
    "                           'teacher': 'Dave',\n",
    "                           'assistant': 'Peter C.'},\n",
    "                 'cs373': {'name': 'Programming a Robotic Car',\n",
    "                           'teacher': 'Sebastian',\n",
    "                           'assistant': 'Andy'}},\n",
    "    'fall2020': { 'cs101': {'name': 'Building a Search Engine',\n",
    "                           'teacher': 'Dave',\n",
    "                           'assistant': 'Sarah'},\n",
    "                 'cs212': {'name': 'The Design of Computer Programs',\n",
    "                           'teacher': 'Peter N.',\n",
    "                           'assistant': 'Andy',\n",
    "                           'prereq': 'cs101'},\n",
    "                 'cs253': {'name': 'Web Application Engineering - Building a Blog',\n",
    "                           'teacher': 'Steve',\n",
    "                           'prereq': 'cs101'},\n",
    "                 'cs262': {'name': 'Programming Languages - Building a Web Browser',\n",
    "                           'teacher': 'Wes',\n",
    "                           'assistant': 'Peter C.',\n",
    "                           'prereq': 'cs101'},\n",
    "                 'cs373': {'name': 'Programming a Robotic Car',\n",
    "                           'teacher': 'Sebastian'},\n",
    "                 'cs387': {'name': 'Applied Cryptography',\n",
    "                           'teacher': 'Dave'}},\n",
    "    'spring2044': { 'cs001': {'name': 'Building a Quantum Holodeck',\n",
    "                           'teacher': 'Dorina'},\n",
    "                        'cs003': {'name': 'Programming a Robotic Robotics Teacher',\n",
    "                           'teacher': 'Jasper'},\n",
    "                     }\n",
    "    }\n",
    "\n",
    "\n",
    "def when_offered(courses, course):\n",
    "    offered_list = []\n",
    "    for offered in courses:\n",
    "        course_info = courses[offered]\n",
    "        if course in course_info:\n",
    "            offered_list.append(offered)\n",
    "    return offered_list\n",
    "\n",
    "\n",
    "\n",
    "print(when_offered(courses, 'cs101'))\n",
    "print(when_offered(courses, 'bio893'))"
   ]
  },
  {
   "cell_type": "code",
   "execution_count": 3,
   "metadata": {},
   "outputs": [
    {
     "name": "stdout",
     "output_type": "stream",
     "text": [
      "Requirement already up-to-date: jupyterlab-git in /srv/conda/envs/notebook/lib/python3.7/site-packages (0.9.0)\n",
      "Requirement already satisfied, skipping upgrade: nbdime>=1.1.0 in /srv/conda/envs/notebook/lib/python3.7/site-packages (from jupyterlab-git) (1.1.0)\n",
      "Requirement already satisfied, skipping upgrade: notebook in /srv/conda/envs/notebook/lib/python3.7/site-packages (from jupyterlab-git) (5.7.8)\n",
      "Requirement already satisfied, skipping upgrade: pexpect in /srv/conda/envs/notebook/lib/python3.7/site-packages (from jupyterlab-git) (4.7.0)\n",
      "Requirement already satisfied, skipping upgrade: pygments in /srv/conda/envs/notebook/lib/python3.7/site-packages (from nbdime>=1.1.0->jupyterlab-git) (2.4.2)\n",
      "Requirement already satisfied, skipping upgrade: colorama in /srv/conda/envs/notebook/lib/python3.7/site-packages (from nbdime>=1.1.0->jupyterlab-git) (0.4.3)\n",
      "Requirement already satisfied, skipping upgrade: six in /srv/conda/envs/notebook/lib/python3.7/site-packages (from nbdime>=1.1.0->jupyterlab-git) (1.12.0)\n",
      "Requirement already satisfied, skipping upgrade: requests in /srv/conda/envs/notebook/lib/python3.7/site-packages (from nbdime>=1.1.0->jupyterlab-git) (2.22.0)\n",
      "Requirement already satisfied, skipping upgrade: nbformat in /srv/conda/envs/notebook/lib/python3.7/site-packages (from nbdime>=1.1.0->jupyterlab-git) (4.4.0)\n",
      "Requirement already satisfied, skipping upgrade: jinja2>=2.9 in /srv/conda/envs/notebook/lib/python3.7/site-packages (from nbdime>=1.1.0->jupyterlab-git) (2.10.1)\n",
      "Requirement already satisfied, skipping upgrade: tornado in /srv/conda/envs/notebook/lib/python3.7/site-packages (from nbdime>=1.1.0->jupyterlab-git) (6.0.3)\n",
      "Requirement already satisfied, skipping upgrade: GitPython!=2.1.4,!=2.1.5,!=2.1.6 in /srv/conda/envs/notebook/lib/python3.7/site-packages (from nbdime>=1.1.0->jupyterlab-git) (3.0.5)\n",
      "Requirement already satisfied, skipping upgrade: traitlets>=4.2.1 in /srv/conda/envs/notebook/lib/python3.7/site-packages (from notebook->jupyterlab-git) (4.3.2)\n",
      "Requirement already satisfied, skipping upgrade: ipykernel in /srv/conda/envs/notebook/lib/python3.7/site-packages (from notebook->jupyterlab-git) (5.1.2)\n",
      "Requirement already satisfied, skipping upgrade: pyzmq>=17 in /srv/conda/envs/notebook/lib/python3.7/site-packages (from notebook->jupyterlab-git) (18.1.0)\n",
      "Requirement already satisfied, skipping upgrade: ipython-genutils in /srv/conda/envs/notebook/lib/python3.7/site-packages (from notebook->jupyterlab-git) (0.2.0)\n",
      "Requirement already satisfied, skipping upgrade: jupyter-client>=5.2.0 in /srv/conda/envs/notebook/lib/python3.7/site-packages (from notebook->jupyterlab-git) (5.3.1)\n",
      "Requirement already satisfied, skipping upgrade: Send2Trash in /srv/conda/envs/notebook/lib/python3.7/site-packages (from notebook->jupyterlab-git) (1.5.0)\n",
      "Requirement already satisfied, skipping upgrade: terminado>=0.8.1 in /srv/conda/envs/notebook/lib/python3.7/site-packages (from notebook->jupyterlab-git) (0.8.2)\n",
      "Requirement already satisfied, skipping upgrade: nbconvert in /srv/conda/envs/notebook/lib/python3.7/site-packages (from notebook->jupyterlab-git) (5.4.1)\n",
      "Requirement already satisfied, skipping upgrade: prometheus-client in /srv/conda/envs/notebook/lib/python3.7/site-packages (from notebook->jupyterlab-git) (0.7.1)\n",
      "Requirement already satisfied, skipping upgrade: jupyter-core>=4.4.0 in /srv/conda/envs/notebook/lib/python3.7/site-packages (from notebook->jupyterlab-git) (4.4.0)\n",
      "Requirement already satisfied, skipping upgrade: ptyprocess>=0.5 in /srv/conda/envs/notebook/lib/python3.7/site-packages (from pexpect->jupyterlab-git) (0.6.0)\n",
      "Requirement already satisfied, skipping upgrade: chardet<3.1.0,>=3.0.2 in /srv/conda/envs/notebook/lib/python3.7/site-packages (from requests->nbdime>=1.1.0->jupyterlab-git) (3.0.4)\n",
      "Requirement already satisfied, skipping upgrade: certifi>=2017.4.17 in /srv/conda/envs/notebook/lib/python3.7/site-packages (from requests->nbdime>=1.1.0->jupyterlab-git) (2019.9.11)\n",
      "Requirement already satisfied, skipping upgrade: idna<2.9,>=2.5 in /srv/conda/envs/notebook/lib/python3.7/site-packages (from requests->nbdime>=1.1.0->jupyterlab-git) (2.8)\n",
      "Requirement already satisfied, skipping upgrade: urllib3!=1.25.0,!=1.25.1,<1.26,>=1.21.1 in /srv/conda/envs/notebook/lib/python3.7/site-packages (from requests->nbdime>=1.1.0->jupyterlab-git) (1.25.3)\n",
      "Requirement already satisfied, skipping upgrade: jsonschema!=2.5.0,>=2.4 in /srv/conda/envs/notebook/lib/python3.7/site-packages (from nbformat->nbdime>=1.1.0->jupyterlab-git) (3.0.2)\n",
      "Requirement already satisfied, skipping upgrade: MarkupSafe>=0.23 in /srv/conda/envs/notebook/lib/python3.7/site-packages (from jinja2>=2.9->nbdime>=1.1.0->jupyterlab-git) (1.1.1)\n",
      "Requirement already satisfied, skipping upgrade: gitdb2>=2.0.0 in /srv/conda/envs/notebook/lib/python3.7/site-packages (from GitPython!=2.1.4,!=2.1.5,!=2.1.6->nbdime>=1.1.0->jupyterlab-git) (2.0.6)\n",
      "Requirement already satisfied, skipping upgrade: decorator in /srv/conda/envs/notebook/lib/python3.7/site-packages (from traitlets>=4.2.1->notebook->jupyterlab-git) (4.4.0)\n",
      "Requirement already satisfied, skipping upgrade: ipython>=5.0.0 in /srv/conda/envs/notebook/lib/python3.7/site-packages (from ipykernel->notebook->jupyterlab-git) (7.8.0)\n",
      "Requirement already satisfied, skipping upgrade: python-dateutil>=2.1 in /srv/conda/envs/notebook/lib/python3.7/site-packages (from jupyter-client>=5.2.0->notebook->jupyterlab-git) (2.8.0)\n",
      "Requirement already satisfied, skipping upgrade: mistune>=0.8.1 in /srv/conda/envs/notebook/lib/python3.7/site-packages (from nbconvert->notebook->jupyterlab-git) (0.8.4)\n",
      "Requirement already satisfied, skipping upgrade: entrypoints>=0.2.2 in /srv/conda/envs/notebook/lib/python3.7/site-packages (from nbconvert->notebook->jupyterlab-git) (0.3)\n",
      "Requirement already satisfied, skipping upgrade: bleach in /srv/conda/envs/notebook/lib/python3.7/site-packages (from nbconvert->notebook->jupyterlab-git) (3.1.0)\n",
      "Requirement already satisfied, skipping upgrade: pandocfilters>=1.4.1 in /srv/conda/envs/notebook/lib/python3.7/site-packages (from nbconvert->notebook->jupyterlab-git) (1.4.2)\n",
      "Requirement already satisfied, skipping upgrade: testpath in /srv/conda/envs/notebook/lib/python3.7/site-packages (from nbconvert->notebook->jupyterlab-git) (0.4.2)\n",
      "Requirement already satisfied, skipping upgrade: defusedxml in /srv/conda/envs/notebook/lib/python3.7/site-packages (from nbconvert->notebook->jupyterlab-git) (0.5.0)\n",
      "Requirement already satisfied, skipping upgrade: pyrsistent>=0.14.0 in /srv/conda/envs/notebook/lib/python3.7/site-packages (from jsonschema!=2.5.0,>=2.4->nbformat->nbdime>=1.1.0->jupyterlab-git) (0.15.4)\n",
      "Requirement already satisfied, skipping upgrade: attrs>=17.4.0 in /srv/conda/envs/notebook/lib/python3.7/site-packages (from jsonschema!=2.5.0,>=2.4->nbformat->nbdime>=1.1.0->jupyterlab-git) (19.1.0)\n",
      "Requirement already satisfied, skipping upgrade: setuptools in /srv/conda/envs/notebook/lib/python3.7/site-packages (from jsonschema!=2.5.0,>=2.4->nbformat->nbdime>=1.1.0->jupyterlab-git) (41.2.0)\n",
      "Requirement already satisfied, skipping upgrade: smmap2>=2.0.0 in /srv/conda/envs/notebook/lib/python3.7/site-packages (from gitdb2>=2.0.0->GitPython!=2.1.4,!=2.1.5,!=2.1.6->nbdime>=1.1.0->jupyterlab-git) (2.0.5)\n",
      "Requirement already satisfied, skipping upgrade: pickleshare in /srv/conda/envs/notebook/lib/python3.7/site-packages (from ipython>=5.0.0->ipykernel->notebook->jupyterlab-git) (0.7.5)\n",
      "Requirement already satisfied, skipping upgrade: backcall in /srv/conda/envs/notebook/lib/python3.7/site-packages (from ipython>=5.0.0->ipykernel->notebook->jupyterlab-git) (0.1.0)\n",
      "Requirement already satisfied, skipping upgrade: jedi>=0.10 in /srv/conda/envs/notebook/lib/python3.7/site-packages (from ipython>=5.0.0->ipykernel->notebook->jupyterlab-git) (0.15.1)\n",
      "Requirement already satisfied, skipping upgrade: prompt-toolkit<2.1.0,>=2.0.0 in /srv/conda/envs/notebook/lib/python3.7/site-packages (from ipython>=5.0.0->ipykernel->notebook->jupyterlab-git) (2.0.9)\n",
      "Requirement already satisfied, skipping upgrade: webencodings in /srv/conda/envs/notebook/lib/python3.7/site-packages (from bleach->nbconvert->notebook->jupyterlab-git) (0.5.1)\n",
      "Requirement already satisfied, skipping upgrade: parso>=0.5.0 in /srv/conda/envs/notebook/lib/python3.7/site-packages (from jedi>=0.10->ipython>=5.0.0->ipykernel->notebook->jupyterlab-git) (0.5.1)\n",
      "Requirement already satisfied, skipping upgrade: wcwidth in /srv/conda/envs/notebook/lib/python3.7/site-packages (from prompt-toolkit<2.1.0,>=2.0.0->ipython>=5.0.0->ipykernel->notebook->jupyterlab-git) (0.1.7)\n"
     ]
    }
   ],
   "source": [
    "!pip install --upgrade jupyterlab-git"
   ]
  },
  {
   "cell_type": "code",
   "execution_count": 4,
   "metadata": {},
   "outputs": [
    {
     "name": "stdout",
     "output_type": "stream",
     "text": [
      "[LabBuildApp] JupyterLab 0.35.4\n",
      "[LabBuildApp] Cleaning /srv/conda/envs/notebook/share/jupyter/lab\n",
      "Cleaning /srv/conda/envs/notebook/share/jupyter/lab...\n",
      "Success!\n",
      "[LabBuildApp] Building in /srv/conda/envs/notebook/share/jupyter/lab\n",
      "[LabBuildApp] Node v11.14.0\n",
      "\n",
      "[LabBuildApp] WARNING | \n",
      "\"nbdime-jupyterlab@1.0.0\" is not compatible with the current JupyterLab\n",
      "Conflicting Dependencies:\n",
      "JupyterLab             Extension        Package\n",
      ">=0.19.1 <0.20.0       >=1.0.0 <2.0.0   @jupyterlab/apputils\n",
      ">=2.2.1 <3.0.0         >=3.0.0 <4.0.0   @jupyterlab/coreutils\n",
      ">=0.19.2 <0.20.0       >=1.0.0 <2.0.0   @jupyterlab/notebook\n",
      ">=0.19.1 <0.20.0       >=1.0.0 <2.0.0   @jupyterlab/rendermime\n",
      ">=3.2.1 <4.0.0         >=4.0.0 <5.0.0   @jupyterlab/services\n",
      "\n",
      "\n",
      "[LabBuildApp] WARNING | \n",
      "\"@jupyterlab/git@0.9.0\" is not compatible with the current JupyterLab\n",
      "Conflicting Dependencies:\n",
      "JupyterLab              Extension        Package\n",
      ">=0.19.1 <0.20.0        >=1.1.0 <2.0.0   @jupyterlab/application\n",
      ">=0.19.1 <0.20.0        >=1.1.0 <2.0.0   @jupyterlab/apputils\n",
      ">=0.19.1 <0.20.0        >=1.1.0 <2.0.0   @jupyterlab/console\n",
      ">=2.2.1 <3.0.0          >=3.1.0 <4.0.0   @jupyterlab/coreutils\n",
      ">=0.19.3 <0.20.0        >=1.1.0 <2.0.0   @jupyterlab/filebrowser\n",
      ">=3.2.1 <4.0.0          >=4.1.0 <5.0.0   @jupyterlab/services\n",
      ">=0.19.1 <0.20.0        >=1.1.0 <2.0.0   @jupyterlab/terminal\n",
      "\n",
      "\n",
      "[LabBuildApp] > node /srv/conda/envs/notebook/lib/python3.7/site-packages/jupyterlab/staging/yarn.js install\n",
      "\u001b[2K\u001b[1G\u001b[1myarn install v1.9.4\u001b[22m\n",
      "\u001b[2K\u001b[1G\u001b[34minfo\u001b[39m No lockfile found.\n",
      "\u001b[2K\u001b[1G\u001b[2m[1/5]\u001b[22m Validating package.json...\n",
      "\u001b[2K\u001b[1G\u001b[2m[2/5]\u001b[22m Resolving packages...\n",
      "\u001b[1G⠁ \u001b[0K\u001b[1G⠂ @jupyterlab/application@^0.19.1\u001b[0K\u001b[1G⠄ @jupyterlab/application@^0.19.1\u001b[0K\u001b[1G⡀ @jupyterlab/application@^0.19.1\u001b[0K\u001b[1G⢀ @jupyterlab/application@^0.19.1\u001b[0K\u001b[1G⠠ @jupyterlab/application@^0.19.1\u001b[0K\u001b[1G⠐ @jupyterlab/application@^0.19.1\u001b[0K\u001b[1G⠈ @jupyterlab/application@^0.19.1\u001b[0K\u001b[1G⠁ @jupyterlab/application@^0.19.1\u001b[0K\u001b[1G⠂ @jupyterlab/application@^0.19.1\u001b[0K\u001b[1G⠄ @jupyterlab/application@^0.19.1\u001b[0K\u001b[1G⡀ @jupyterlab/application@^0.19.1\u001b[0K\u001b[1G⢀ @jupyterlab/application@^0.19.1\u001b[0K\u001b[1G⠠ @jupyterlab/application@^0.19.1\u001b[0K\u001b[1G⠐ @phosphor/widgets@^1.6.0\u001b[0K\u001b[1G⠈ @phosphor/widgets@^1.6.0\u001b[0K\u001b[1G⠁ @phosphor/widgets@^1.6.0\u001b[0K\u001b[1G⠂ @phosphor/widgets@^1.6.0\u001b[0K\u001b[1G⠄ @phosphor/widgets@^1.6.0\u001b[0K\u001b[1G⡀ @phosphor/widgets@^1.6.0\u001b[0K\u001b[1G⢀ @phosphor/widgets@^1.6.0\u001b[0K\u001b[1G⠠ @phosphor/widgets@^1.6.0\u001b[0K\u001b[1G⠐ @phosphor/widgets@^1.6.0\u001b[0K\u001b[1G⠈ @phosphor/widgets@^1.6.0\u001b[0K\u001b[1G⠁ @phosphor/widgets@^1.6.0\u001b[0K\u001b[1G⠂ @phosphor/widgets@^1.6.0\u001b[0K\u001b[1G⠄ sanitize-html@~1.18.2\u001b[0K\u001b[1G⡀ marked@~0.4.0\u001b[0K\u001b[1G⢀ @phosphor/widgets@^1.9.3\u001b[0K\u001b[1G⠠ @phosphor/widgets@^1.9.3\u001b[0K\u001b[1G⠐ @phosphor/widgets@^1.9.3\u001b[0K\u001b[1G⠈ @phosphor/widgets@^1.9.3\u001b[0K\u001b[1G⠁ @phosphor/widgets@^1.9.3\u001b[0K\u001b[1G⠂ @phosphor/widgets@^1.9.3\u001b[0K\u001b[1G⠄ @phosphor/widgets@^1.9.3\u001b[0K\u001b[1G⡀ @phosphor/widgets@^1.9.3\u001b[0K\u001b[1G⢀ @phosphor/widgets@^1.9.3\u001b[0K\u001b[1G⠠ @phosphor/signaling@^1.3.1\u001b[0K\u001b[1G⠐ @types/prop-types@*\u001b[0K\u001b[1G⠈ prop-types@^15.6.0\u001b[0K\u001b[1G⠁ requires-port@^1.0.0\u001b[0K\u001b[1G⠂ ua-parser-js@^0.7.18\u001b[0K\u001b[1G⠄ supports-color@^5.3.0\u001b[0K\u001b[1G⡀ readable-stream@^3.1.1\u001b[0K\u001b[1G⢀ readable-stream@^3.1.1\u001b[0K\u001b[1G⠠ number-is-nan@^1.0.0\u001b[0K\u001b[2K\u001b[1G\u001b[33mwarning\u001b[39m @jupyterlab/application > @jupyterlab/coreutils > comment-json > json-parser@1.1.5: `json-parser` is deprecated. Please use `comment-json` instead\n",
      "\u001b[1G⠐ esprima@^2.7.0\u001b[0K\u001b[2K\u001b[1G\u001b[33mwarning\u001b[39m @jupyterlab/application > @jupyterlab/apputils > react > fbjs > core-js@1.2.7: core-js@<3 is no longer maintained and not recommended for usage due to the number of issues. Please, upgrade your dependencies to the actual version of core-js@3.\n"
     ]
    },
    {
     "name": "stdout",
     "output_type": "stream",
     "text": [
      "\u001b[1G⠈ esprima@^2.7.0\u001b[0K\u001b[1G⠁ asap@~2.0.3\u001b[0K\u001b[1G⠂ color-convert@^1.9.0\u001b[0K\u001b[1G⠄ domelementtype@1\u001b[0K\u001b[1G⡀ util-deprecate@^1.0.1\u001b[0K\u001b[1G⢀ @phosphor/signaling@^1.3.0\u001b[0K\u001b[1G⠠ iconv-lite@~0.4.13\u001b[0K\u001b[1G⠐ @phosphor/disposable@^1.3.1\u001b[0K\u001b[1G⠈ @phosphor/disposable@^1.3.1\u001b[0K\u001b[1G⠁ @phosphor/disposable@^1.3.1\u001b[0K\u001b[1G⠂ @phosphor/disposable@^1.3.1\u001b[0K\u001b[1G⠄ @phosphor/disposable@^1.3.1\u001b[0K\u001b[1G⡀ @phosphor/disposable@^1.3.1\u001b[0K\u001b[1G⢀ @phosphor/disposable@^1.3.1\u001b[0K\u001b[1G⠠ @phosphor/disposable@^1.3.1\u001b[0K\u001b[1G⠐ @jupyterlab/application-extension@^0.19.1\u001b[0K\u001b[1G⠈ @jupyterlab/application-extension@^0.19.1\u001b[0K\u001b[1G⠁ @jupyterlab/application-extension@^0.19.1\u001b[0K\u001b[1G⠂ @jupyterlab/application-extension@^0.19.1\u001b[0K\u001b[1G⠄ @jupyterlab/application-extension@^0.19.1\u001b[0K\u001b[1G⡀ @jupyterlab/application-extension@^0.19.1\u001b[0K\u001b[1G⢀ @jupyterlab/application-extension@^0.19.1\u001b[0K\u001b[1G⠠ @jupyterlab/application-extension@^0.19.1\u001b[0K\u001b[1G⠐ @jupyterlab/application-extension@^0.19.1\u001b[0K\u001b[1G⠈ @jupyterlab/application-extension@^0.19.1\u001b[0K\u001b[1G⠁ @jupyterlab/application-extension@^0.19.1\u001b[0K\u001b[1G⠂ @jupyterlab/application-extension@^0.19.1\u001b[0K\u001b[1G⠄ @jupyterlab/apputils-extension@^0.19.1\u001b[0K\u001b[1G⡀ @jupyterlab/apputils-extension@^0.19.1\u001b[0K\u001b[1G⢀ @jupyterlab/apputils-extension@^0.19.1\u001b[0K\u001b[1G⠠ @jupyterlab/apputils-extension@^0.19.1\u001b[0K\u001b[1G⠐ @jupyterlab/apputils-extension@^0.19.1\u001b[0K\u001b[1G⠈ @jupyterlab/apputils-extension@^0.19.1\u001b[0K\u001b[1G⠁ @jupyterlab/apputils-extension@^0.19.1\u001b[0K\u001b[1G⠂ @jupyterlab/apputils-extension@^0.19.1\u001b[0K\u001b[1G⠄ @jupyterlab/apputils-extension@^0.19.1\u001b[0K\u001b[1G⡀ @jupyterlab/apputils-extension@^0.19.1\u001b[0K\u001b[1G⢀ @jupyterlab/apputils-extension@^0.19.1\u001b[0K\u001b[1G⠠ @jupyterlab/apputils-extension@^0.19.1\u001b[0K\u001b[1G⠐ @jupyterlab/apputils-extension@^0.19.1\u001b[0K\u001b[1G⠈ es6-promise@~4.1.1\u001b[0K\u001b[1G⠁ es6-promise@~4.1.1\u001b[0K\u001b[1G⠂ es6-promise@~4.1.1\u001b[0K\u001b[1G⠄ es6-promise@~4.1.1\u001b[0K\u001b[1G⡀ es6-promise@~4.1.1\u001b[0K\u001b[1G⢀ es6-promise@~4.1.1\u001b[0K\u001b[1G⠠ es6-promise@~4.1.1\u001b[0K\u001b[1G⠐ es6-promise@~4.1.1\u001b[0K\u001b[1G⠈ es6-promise@~4.1.1\u001b[0K\u001b[1G⠁ es6-promise@~4.1.1\u001b[0K\u001b[1G⠂ es6-promise@~4.1.1\u001b[0K\u001b[1G⠄ es6-promise@~4.1.1\u001b[0K\u001b[1G⡀ es6-promise@~4.1.1\u001b[0K\u001b[1G⢀ @jupyterlab/attachments@^0.19.1\u001b[0K\u001b[1G⠠ @jupyterlab/attachments@^0.19.1\u001b[0K\u001b[1G⠐ @jupyterlab/attachments@^0.19.1\u001b[0K\u001b[1G⠈ @jupyterlab/attachments@^0.19.1\u001b[0K\u001b[1G⠁ @jupyterlab/attachments@^0.19.1\u001b[0K\u001b[1G⠂ @jupyterlab/attachments@^0.19.1\u001b[0K\u001b[1G⠄ @jupyterlab/attachments@^0.19.1\u001b[0K\u001b[1G⡀ @jupyterlab/attachments@^0.19.1\u001b[0K\u001b[1G⢀ @jupyterlab/attachments@^0.19.1\u001b[0K\u001b[1G⠠ @jupyterlab/attachments@^0.19.1\u001b[0K\u001b[1G⠐ @jupyterlab/attachments@^0.19.1\u001b[0K\u001b[1G⠈ @jupyterlab/attachments@^0.19.1\u001b[0K\u001b[1G⠁ @jupyterlab/cells@^0.19.1\u001b[0K\u001b[1G⠂ @jupyterlab/cells@^0.19.1\u001b[0K\u001b[1G⠄ @jupyterlab/cells@^0.19.1\u001b[0K\u001b[1G⡀ @jupyterlab/cells@^0.19.1\u001b[0K\u001b[1G⢀ @jupyterlab/cells@^0.19.1\u001b[0K\u001b[1G⠠ @jupyterlab/cells@^0.19.1\u001b[0K\u001b[1G⠐ @jupyterlab/cells@^0.19.1\u001b[0K\u001b[1G⠈ @jupyterlab/cells@^0.19.1\u001b[0K\u001b[1G⠁ @jupyterlab/cells@^0.19.1\u001b[0K\u001b[1G⠂ @jupyterlab/cells@^0.19.1\u001b[0K\u001b[1G⠄ @jupyterlab/cells@^0.19.1\u001b[0K\u001b[1G⡀ @jupyterlab/cells@^0.19.1\u001b[0K\u001b[1G⢀ react@~16.4.2\u001b[0K\u001b[1G⠠ react@~16.4.2\u001b[0K\u001b[1G⠐ react@~16.4.2\u001b[0K\u001b[1G⠈ react@~16.4.2\u001b[0K\u001b[1G⠁ react@~16.4.2\u001b[0K\u001b[1G⠂ react@~16.4.2\u001b[0K\u001b[1G⠄ react@~16.4.2\u001b[0K\u001b[1G⡀ react@~16.4.2\u001b[0K\u001b[1G⢀ react@~16.4.2\u001b[0K\u001b[1G⠠ react@~16.4.2\u001b[0K\u001b[1G⠐ react@~16.4.2\u001b[0K\u001b[1G⠈ react@~16.4.2\u001b[0K\u001b[1G⠁ react@~16.4.2\u001b[0K\u001b[1G⠂ @jupyterlab/codemirror-extension@^0.19.1\u001b[0K\u001b[1G⠄ @jupyterlab/codemirror-extension@^0.19.1\u001b[0K\u001b[1G⡀ @jupyterlab/codemirror-extension@^0.19.1\u001b[0K\u001b[1G⢀ @jupyterlab/codemirror-extension@^0.19.1\u001b[0K\u001b[1G⠠ @jupyterlab/codemirror-extension@^0.19.1\u001b[0K\u001b[1G⠐ @jupyterlab/codemirror-extension@^0.19.1\u001b[0K\u001b[1G⠈ @jupyterlab/codemirror-extension@^0.19.1\u001b[0K\u001b[1G⠁ @jupyterlab/codemirror-extension@^0.19.1\u001b[0K\u001b[1G⠂ @jupyterlab/codemirror-extension@^0.19.1\u001b[0K\u001b[1G⠄ @jupyterlab/codemirror-extension@^0.19.1\u001b[0K\u001b[1G⡀ @jupyterlab/codemirror-extension@^0.19.1\u001b[0K\u001b[1G⢀ @jupyterlab/codemirror-extension@^0.19.1\u001b[0K\u001b[1G⠠ codemirror@~5.39.0\u001b[0K\u001b[1G⠐ codemirror@~5.39.0\u001b[0K\u001b[1G⠈ codemirror@~5.39.0\u001b[0K\u001b[1G⠁ codemirror@~5.39.0\u001b[0K\u001b[1G⠂ codemirror@~5.39.0\u001b[0K\u001b[1G⠄ codemirror@~5.39.0\u001b[0K\u001b[1G⡀ codemirror@~5.39.0\u001b[0K\u001b[1G⢀ codemirror@~5.39.0\u001b[0K\u001b[1G⠠ codemirror@~5.39.0\u001b[0K\u001b[1G⠐ codemirror@~5.39.0\u001b[0K\u001b[1G⠈ codemirror@~5.39.0\u001b[0K\u001b[1G⠁ codemirror@~5.39.0\u001b[0K\u001b[1G⠂ codemirror@~5.39.0\u001b[0K\u001b[1G⠄ @jupyterlab/completer@^0.19.1\u001b[0K\u001b[1G⡀ @jupyterlab/completer@^0.19.1\u001b[0K\u001b[1G⢀ @jupyterlab/completer@^0.19.1\u001b[0K\u001b[1G⠠ @jupyterlab/completer@^0.19.1\u001b[0K\u001b[1G⠐ @jupyterlab/completer@^0.19.1\u001b[0K\u001b[1G⠈ @jupyterlab/completer@^0.19.1\u001b[0K\u001b[1G⠁ @jupyterlab/completer@^0.19.1\u001b[0K\u001b[1G⠂ @jupyterlab/completer@^0.19.1\u001b[0K\u001b[1G⠄ @jupyterlab/completer@^0.19.1\u001b[0K\u001b[1G⡀ @jupyterlab/completer@^0.19.1\u001b[0K\u001b[1G⢀ @jupyterlab/completer@^0.19.1\u001b[0K\u001b[1G⠠ @jupyterlab/completer@^0.19.1\u001b[0K\u001b[1G⠐ @jupyterlab/completer-extension@^0.19.1\u001b[0K\u001b[1G⠈ @jupyterlab/completer-extension@^0.19.1\u001b[0K\u001b[1G⠁ @jupyterlab/completer-extension@^0.19.1\u001b[0K\u001b[1G⠂ @jupyterlab/completer-extension@^0.19.1\u001b[0K\u001b[1G⠄ @jupyterlab/completer-extension@^0.19.1\u001b[0K\u001b[1G⡀ @jupyterlab/completer-extension@^0.19.1\u001b[0K\u001b[1G⢀ @jupyterlab/completer-extension@^0.19.1\u001b[0K\u001b[1G⠠ @jupyterlab/completer-extension@^0.19.1\u001b[0K\u001b[1G⠐ @jupyterlab/completer-extension@^0.19.1\u001b[0K\u001b[1G⠈ @jupyterlab/completer-extension@^0.19.1\u001b[0K\u001b[1G⠁ @jupyterlab/completer-extension@^0.19.1\u001b[0K\u001b[1G⠂ @jupyterlab/completer-extension@^0.19.1\u001b[0K\u001b[1G⠄ @jupyterlab/completer-extension@^0.19.1\u001b[0K\u001b[1G⡀ @phosphor/widgets@^1.6.0\u001b[0K\u001b[1G⢀ @phosphor/widgets@^1.6.0\u001b[0K\u001b[1G⠠ @phosphor/widgets@^1.6.0\u001b[0K\u001b[1G⠐ @phosphor/widgets@^1.6.0\u001b[0K\u001b[1G⠈ @phosphor/widgets@^1.6.0\u001b[0K\u001b[1G⠁ @phosphor/widgets@^1.6.0\u001b[0K\u001b[1G⠂ @phosphor/widgets@^1.6.0\u001b[0K\u001b[1G⠄ @phosphor/widgets@^1.6.0\u001b[0K\u001b[1G⡀ @phosphor/widgets@^1.6.0\u001b[0K\u001b[1G⢀ @phosphor/widgets@^1.6.0\u001b[0K\u001b[1G⠠ @phosphor/widgets@^1.6.0\u001b[0K\u001b[1G⠐ @phosphor/widgets@^1.6.0\u001b[0K\u001b[1G⠈ @phosphor/widgets@^1.6.0\u001b[0K\u001b[1G⠁ @jupyterlab/console-extension@^0.19.1\u001b[0K\u001b[1G⠂ @jupyterlab/console-extension@^0.19.1\u001b[0K\u001b[1G⠄ @jupyterlab/console-extension@^0.19.1\u001b[0K\u001b[1G⡀ @jupyterlab/console-extension@^0.19.1\u001b[0K\u001b[1G⢀ @jupyterlab/console-extension@^0.19.1\u001b[0K\u001b[1G⠠ @jupyterlab/console-extension@^0.19.1\u001b[0K\u001b[1G⠐ @jupyterlab/console-extension@^0.19.1\u001b[0K\u001b[1G⠈ @jupyterlab/console-extension@^0.19.1\u001b[0K\u001b[1G⠁ @jupyterlab/console-extension@^0.19.1\u001b[0K\u001b[1G⠂ @jupyterlab/console-extension@^0.19.1\u001b[0K\u001b[1G⠄ @jupyterlab/console-extension@^0.19.1\u001b[0K\u001b[1G⡀ @jupyterlab/console-extension@^0.19.1\u001b[0K\u001b[1G⢀ @phosphor/widgets@^1.6.0\u001b[0K\u001b[1G⠠ @phosphor/widgets@^1.6.0\u001b[0K\u001b[1G⠐ @phosphor/widgets@^1.6.0\u001b[0K\u001b[1G⠈ @phosphor/widgets@^1.6.0\u001b[0K\u001b[1G⠁ @phosphor/widgets@^1.6.0\u001b[0K\u001b[1G⠂ @phosphor/widgets@^1.6.0\u001b[0K\u001b[1G⠄ @phosphor/widgets@^1.6.0\u001b[0K\u001b[1G⡀ @phosphor/widgets@^1.6.0\u001b[0K\u001b[1G⢀ @phosphor/widgets@^1.6.0\u001b[0K\u001b[1G⠠ @phosphor/widgets@^1.6.0\u001b[0K\u001b[1G⠐ @phosphor/widgets@^1.6.0\u001b[0K\u001b[1G⠈ @phosphor/widgets@^1.6.0\u001b[0K\u001b[1G⠁ @phosphor/widgets@^1.6.0\u001b[0K\u001b[1G⠂ react@~16.4.2\u001b[0K\u001b[1G⠄ react@~16.4.2\u001b[0K\u001b[1G⡀ react@~16.4.2\u001b[0K\u001b[1G⢀ @phosphor/widgets@^1.6.0\u001b[0K\u001b[1G⠠ @phosphor/widgets@^1.6.0\u001b[0K\u001b[1G⠐ @phosphor/widgets@^1.6.0\u001b[0K\u001b[1G⠈ @phosphor/widgets@^1.6.0\u001b[0K\u001b[1G⠁ @phosphor/widgets@^1.6.0\u001b[0K\u001b[1G⠂ @phosphor/widgets@^1.6.0\u001b[0K\u001b[1G⠄ @phosphor/widgets@^1.6.0\u001b[0K\u001b[1G⡀ @phosphor/widgets@^1.6.0\u001b[0K\u001b[1G⢀ @phosphor/widgets@^1.6.0\u001b[0K\u001b[1G⠠ @phosphor/widgets@^1.6.0\u001b[0K\u001b[1G⠐ @phosphor/widgets@^1.6.0\u001b[0K\u001b[1G⠈ @phosphor/widgets@^1.6.0\u001b[0K\u001b[1G⠁ @jupyterlab/csvviewer@^0.19.1\u001b[0K\u001b[1G⠂ @jupyterlab/csvviewer@^0.19.1\u001b[0K\u001b[1G⠄ @jupyterlab/csvviewer@^0.19.1\u001b[0K\u001b[1G⡀ @jupyterlab/csvviewer@^0.19.1\u001b[0K\u001b[1G⢀ @jupyterlab/csvviewer@^0.19.1\u001b[0K\u001b[1G⠠ @jupyterlab/csvviewer@^0.19.1\u001b[0K\u001b[1G⠐ @jupyterlab/csvviewer@^0.19.1\u001b[0K\u001b[1G⠈ @jupyterlab/csvviewer@^0.19.1\u001b[0K\u001b[1G⠁ @jupyterlab/csvviewer@^0.19.1\u001b[0K\u001b[1G⠂ @jupyterlab/csvviewer@^0.19.1\u001b[0K\u001b[1G⠄ @jupyterlab/csvviewer@^0.19.1\u001b[0K\u001b[1G⡀ @jupyterlab/csvviewer@^0.19.1\u001b[0K\u001b[1G⢀ @jupyterlab/csvviewer@^0.19.1\u001b[0K\u001b[1G⠠ @phosphor/widgets@^1.6.0\u001b[0K\u001b[1G⠐ @phosphor/widgets@^1.6.0\u001b[0K\u001b[1G⠈ @phosphor/widgets@^1.6.0\u001b[0K\u001b[1G⠁ @phosphor/widgets@^1.6.0\u001b[0K\u001b[1G⠂ @phosphor/widgets@^1.6.0\u001b[0K\u001b[1G⠄ @phosphor/widgets@^1.6.0\u001b[0K\u001b[1G⡀ @phosphor/widgets@^1.6.0\u001b[0K\u001b[1G⢀ @phosphor/widgets@^1.6.0\u001b[0K\u001b[1G⠠ @phosphor/widgets@^1.6.0\u001b[0K\u001b[1G⠐ @phosphor/widgets@^1.6.0\u001b[0K\u001b[1G⠈ @phosphor/widgets@^1.6.0\u001b[0K\u001b[1G⠁ @phosphor/widgets@^1.6.0\u001b[0K"
     ]
    },
    {
     "name": "stdout",
     "output_type": "stream",
     "text": [
      "\u001b[1G⠂ @jupyterlab/csvviewer-extension@^0.19.1\u001b[0K\u001b[1G⠄ @jupyterlab/csvviewer-extension@^0.19.1\u001b[0K\u001b[1G⡀ @jupyterlab/csvviewer-extension@^0.19.1\u001b[0K\u001b[1G⢀ @jupyterlab/csvviewer-extension@^0.19.1\u001b[0K\u001b[1G⠠ @jupyterlab/csvviewer-extension@^0.19.1\u001b[0K\u001b[1G⠐ @jupyterlab/csvviewer-extension@^0.19.1\u001b[0K\u001b[1G⠈ @jupyterlab/csvviewer-extension@^0.19.1\u001b[0K\u001b[1G⠁ @jupyterlab/csvviewer-extension@^0.19.1\u001b[0K\u001b[1G⠂ @jupyterlab/csvviewer-extension@^0.19.1\u001b[0K\u001b[1G⠄ @jupyterlab/csvviewer-extension@^0.19.1\u001b[0K\u001b[1G⡀ @jupyterlab/csvviewer-extension@^0.19.1\u001b[0K\u001b[1G⢀ @jupyterlab/csvviewer-extension@^0.19.1\u001b[0K\u001b[1G⠠ @jupyterlab/docmanager-extension@^0.19.1\u001b[0K\u001b[1G⠐ @jupyterlab/docmanager-extension@^0.19.1\u001b[0K\u001b[1G⠈ @jupyterlab/docmanager-extension@^0.19.1\u001b[0K\u001b[1G⠁ @jupyterlab/docmanager-extension@^0.19.1\u001b[0K\u001b[1G⠂ @jupyterlab/docmanager-extension@^0.19.1\u001b[0K\u001b[1G⠄ @jupyterlab/docmanager-extension@^0.19.1\u001b[0K\u001b[1G⡀ @jupyterlab/docmanager-extension@^0.19.1\u001b[0K\u001b[1G⢀ @jupyterlab/docmanager-extension@^0.19.1\u001b[0K\u001b[1G⠠ @jupyterlab/docmanager-extension@^0.19.1\u001b[0K\u001b[1G⠐ @jupyterlab/docmanager-extension@^0.19.1\u001b[0K\u001b[1G⠈ @jupyterlab/docmanager-extension@^0.19.1\u001b[0K\u001b[1G⠁ @jupyterlab/docmanager-extension@^0.19.1\u001b[0K\u001b[1G⠂ @jupyterlab/extensionmanager@^0.19.1\u001b[0K\u001b[1G⠄ @jupyterlab/extensionmanager@^0.19.1\u001b[0K\u001b[1G⡀ @jupyterlab/extensionmanager@^0.19.1\u001b[0K\u001b[1G⢀ @jupyterlab/extensionmanager@^0.19.1\u001b[0K\u001b[1G⠠ @jupyterlab/extensionmanager@^0.19.1\u001b[0K\u001b[1G⠐ @jupyterlab/extensionmanager@^0.19.1\u001b[0K\u001b[1G⠈ @jupyterlab/extensionmanager@^0.19.1\u001b[0K\u001b[1G⠁ @jupyterlab/extensionmanager@^0.19.1\u001b[0K\u001b[1G⠂ @jupyterlab/extensionmanager@^0.19.1\u001b[0K\u001b[1G⠄ @jupyterlab/extensionmanager@^0.19.1\u001b[0K\u001b[1G⡀ @jupyterlab/extensionmanager@^0.19.1\u001b[0K\u001b[1G⢀ @jupyterlab/extensionmanager@^0.19.1\u001b[0K\u001b[1G⠠ @jupyterlab/extensionmanager@^0.19.1\u001b[0K\u001b[1G⠐ @jupyterlab/extensionmanager@^0.19.1\u001b[0K\u001b[1G⠈ semver@^5.5.0\u001b[0K\u001b[1G⠁ @jupyterlab/extensionmanager-extension@^0.19.1\u001b[0K\u001b[1G⠂ @jupyterlab/extensionmanager-extension@^0.19.1\u001b[0K\u001b[1G⠄ @jupyterlab/extensionmanager-extension@^0.19.1\u001b[0K\u001b[1G⡀ @jupyterlab/extensionmanager-extension@^0.19.1\u001b[0K\u001b[1G⢀ @jupyterlab/extensionmanager-extension@^0.19.1\u001b[0K\u001b[1G⠠ @jupyterlab/extensionmanager-extension@^0.19.1\u001b[0K\u001b[1G⠐ @jupyterlab/extensionmanager-extension@^0.19.1\u001b[0K\u001b[1G⠈ @jupyterlab/extensionmanager-extension@^0.19.1\u001b[0K\u001b[1G⠁ @jupyterlab/extensionmanager-extension@^0.19.1\u001b[0K\u001b[1G⠂ @jupyterlab/extensionmanager-extension@^0.19.1\u001b[0K\u001b[1G⠄ @jupyterlab/extensionmanager-extension@^0.19.1\u001b[0K\u001b[1G⡀ @jupyterlab/extensionmanager-extension@^0.19.1\u001b[0K\u001b[1G⢀ @jupyterlab/faq-extension@^0.19.1\u001b[0K\u001b[1G⠠ @jupyterlab/faq-extension@^0.19.1\u001b[0K\u001b[1G⠐ @jupyterlab/faq-extension@^0.19.1\u001b[0K\u001b[1G⠈ @jupyterlab/faq-extension@^0.19.1\u001b[0K\u001b[1G⠁ @jupyterlab/faq-extension@^0.19.1\u001b[0K\u001b[1G⠂ @jupyterlab/faq-extension@^0.19.1\u001b[0K\u001b[1G⠄ @jupyterlab/faq-extension@^0.19.1\u001b[0K\u001b[1G⡀ @jupyterlab/faq-extension@^0.19.1\u001b[0K\u001b[1G⢀ @jupyterlab/faq-extension@^0.19.1\u001b[0K\u001b[1G⠠ @jupyterlab/faq-extension@^0.19.1\u001b[0K\u001b[1G⠐ @jupyterlab/faq-extension@^0.19.1\u001b[0K\u001b[1G⠈ @jupyterlab/faq-extension@^0.19.1\u001b[0K\u001b[2K\u001b[1G\u001b[33mwarning\u001b[39m @jupyterlab/faq-extension@0.19.1: The JupyterLab FAQ extension is no longer developed and is removed from JupyterLab 1.0.\n"
     ]
    },
    {
     "name": "stdout",
     "output_type": "stream",
     "text": [
      "\u001b[1G⠁ @jupyterlab/filebrowser-extension@^0.19.2\u001b[0K\u001b[1G⠂ @jupyterlab/filebrowser-extension@^0.19.2\u001b[0K\u001b[1G⠄ @jupyterlab/filebrowser-extension@^0.19.2\u001b[0K\u001b[1G⡀ @jupyterlab/filebrowser-extension@^0.19.2\u001b[0K\u001b[1G⢀ @jupyterlab/filebrowser-extension@^0.19.2\u001b[0K\u001b[1G⠠ @jupyterlab/filebrowser-extension@^0.19.2\u001b[0K\u001b[1G⠐ @jupyterlab/filebrowser-extension@^0.19.2\u001b[0K\u001b[1G⠈ @jupyterlab/filebrowser-extension@^0.19.2\u001b[0K\u001b[1G⠁ @jupyterlab/filebrowser-extension@^0.19.2\u001b[0K\u001b[1G⠂ @jupyterlab/filebrowser-extension@^0.19.2\u001b[0K\u001b[1G⠄ @jupyterlab/filebrowser-extension@^0.19.2\u001b[0K\u001b[1G⡀ @jupyterlab/filebrowser-extension@^0.19.2\u001b[0K\u001b[1G⢀ @jupyterlab/filebrowser-extension@^0.19.2\u001b[0K\u001b[1G⠠ @jupyterlab/fileeditor-extension@^0.19.1\u001b[0K\u001b[1G⠐ @jupyterlab/fileeditor-extension@^0.19.1\u001b[0K\u001b[1G⠈ @jupyterlab/fileeditor-extension@^0.19.1\u001b[0K\u001b[1G⠁ @jupyterlab/fileeditor-extension@^0.19.1\u001b[0K\u001b[1G⠂ @jupyterlab/fileeditor-extension@^0.19.1\u001b[0K\u001b[1G⠄ @jupyterlab/fileeditor-extension@^0.19.1\u001b[0K\u001b[1G⡀ @jupyterlab/fileeditor-extension@^0.19.1\u001b[0K\u001b[1G⢀ @jupyterlab/fileeditor-extension@^0.19.1\u001b[0K\u001b[1G⠠ @jupyterlab/fileeditor-extension@^0.19.1\u001b[0K\u001b[1G⠐ @jupyterlab/fileeditor-extension@^0.19.1\u001b[0K\u001b[1G⠈ @jupyterlab/fileeditor-extension@^0.19.1\u001b[0K\u001b[1G⠁ @jupyterlab/fileeditor-extension@^0.19.1\u001b[0K\u001b[1G⠂ @jupyterlab/help-extension@^0.19.1\u001b[0K\u001b[1G⠄ @jupyterlab/help-extension@^0.19.1\u001b[0K\u001b[1G⡀ @jupyterlab/help-extension@^0.19.1\u001b[0K\u001b[1G⢀ @jupyterlab/help-extension@^0.19.1\u001b[0K\u001b[1G⠠ @jupyterlab/help-extension@^0.19.1\u001b[0K\u001b[1G⠐ @jupyterlab/help-extension@^0.19.1\u001b[0K\u001b[1G⠈ @jupyterlab/help-extension@^0.19.1\u001b[0K\u001b[1G⠁ @jupyterlab/help-extension@^0.19.1\u001b[0K\u001b[1G⠂ @jupyterlab/help-extension@^0.19.1\u001b[0K\u001b[1G⠄ @jupyterlab/help-extension@^0.19.1\u001b[0K\u001b[1G⡀ @jupyterlab/help-extension@^0.19.1\u001b[0K\u001b[1G⢀ @jupyterlab/help-extension@^0.19.1\u001b[0K\u001b[1G⠠ @jupyterlab/help-extension@^0.19.1\u001b[0K\u001b[1G⠐ @jupyterlab/imageviewer@^0.19.1\u001b[0K\u001b[1G⠈ @jupyterlab/imageviewer@^0.19.1\u001b[0K\u001b[1G⠁ @jupyterlab/imageviewer@^0.19.1\u001b[0K\u001b[1G⠂ @jupyterlab/imageviewer@^0.19.1\u001b[0K\u001b[1G⠄ @jupyterlab/imageviewer@^0.19.1\u001b[0K\u001b[1G⡀ @jupyterlab/imageviewer@^0.19.1\u001b[0K\u001b[1G⢀ @jupyterlab/imageviewer@^0.19.1\u001b[0K\u001b[1G⠠ @jupyterlab/imageviewer@^0.19.1\u001b[0K\u001b[1G⠐ @jupyterlab/imageviewer@^0.19.1\u001b[0K\u001b[1G⠈ @jupyterlab/imageviewer@^0.19.1\u001b[0K\u001b[1G⠁ @jupyterlab/imageviewer@^0.19.1\u001b[0K\u001b[1G⠂ @jupyterlab/imageviewer@^0.19.1\u001b[0K\u001b[1G⠄ @jupyterlab/imageviewer-extension@^0.19.1\u001b[0K\u001b[1G⡀ @jupyterlab/imageviewer-extension@^0.19.1\u001b[0K\u001b[1G⢀ @jupyterlab/imageviewer-extension@^0.19.1\u001b[0K\u001b[1G⠠ @jupyterlab/imageviewer-extension@^0.19.1\u001b[0K\u001b[1G⠐ @jupyterlab/imageviewer-extension@^0.19.1\u001b[0K\u001b[1G⠈ @jupyterlab/imageviewer-extension@^0.19.1\u001b[0K\u001b[1G⠁ @jupyterlab/imageviewer-extension@^0.19.1\u001b[0K\u001b[1G⠂ @jupyterlab/imageviewer-extension@^0.19.1\u001b[0K\u001b[1G⠄ @jupyterlab/imageviewer-extension@^0.19.1\u001b[0K\u001b[1G⡀ @jupyterlab/imageviewer-extension@^0.19.1\u001b[0K\u001b[1G⢀ @jupyterlab/imageviewer-extension@^0.19.1\u001b[0K\u001b[1G⠠ @jupyterlab/imageviewer-extension@^0.19.1\u001b[0K\u001b[1G⠐ @jupyterlab/imageviewer-extension@^0.19.1\u001b[0K\u001b[1G⠈ @jupyterlab/inspector@^0.19.1\u001b[0K\u001b[1G⠁ @jupyterlab/inspector@^0.19.1\u001b[0K\u001b[1G⠂ @jupyterlab/inspector@^0.19.1\u001b[0K\u001b[1G⠄ @jupyterlab/inspector@^0.19.1\u001b[0K\u001b[1G⡀ @jupyterlab/inspector@^0.19.1\u001b[0K\u001b[1G⢀ @jupyterlab/inspector@^0.19.1\u001b[0K\u001b[1G⠠ @jupyterlab/inspector@^0.19.1\u001b[0K\u001b[1G⠐ @jupyterlab/inspector@^0.19.1\u001b[0K\u001b[1G⠈ @jupyterlab/inspector@^0.19.1\u001b[0K\u001b[1G⠁ @jupyterlab/inspector@^0.19.1\u001b[0K\u001b[1G⠂ @jupyterlab/inspector@^0.19.1\u001b[0K\u001b[1G⠄ @jupyterlab/inspector@^0.19.1\u001b[0K\u001b[1G⡀ @jupyterlab/inspector-extension@^0.19.1\u001b[0K\u001b[1G⢀ @jupyterlab/inspector-extension@^0.19.1\u001b[0K\u001b[1G⠠ @jupyterlab/inspector-extension@^0.19.1\u001b[0K\u001b[1G⠐ @jupyterlab/inspector-extension@^0.19.1\u001b[0K\u001b[1G⠈ @jupyterlab/inspector-extension@^0.19.1\u001b[0K\u001b[1G⠁ @jupyterlab/inspector-extension@^0.19.1\u001b[0K\u001b[1G⠂ @jupyterlab/inspector-extension@^0.19.1\u001b[0K\u001b[1G⠄ @jupyterlab/inspector-extension@^0.19.1\u001b[0K\u001b[1G⡀ @jupyterlab/inspector-extension@^0.19.1\u001b[0K\u001b[1G⢀ @jupyterlab/inspector-extension@^0.19.1\u001b[0K\u001b[1G⠠ @jupyterlab/inspector-extension@^0.19.1\u001b[0K\u001b[1G⠐ @jupyterlab/inspector-extension@^0.19.1\u001b[0K\u001b[1G⠈ @jupyterlab/javascript-extension@^0.19.1\u001b[0K\u001b[1G⠁ @jupyterlab/javascript-extension@^0.19.1\u001b[0K\u001b[1G⠂ @jupyterlab/javascript-extension@^0.19.1\u001b[0K\u001b[1G⠄ @jupyterlab/javascript-extension@^0.19.1\u001b[0K\u001b[1G⡀ @jupyterlab/javascript-extension@^0.19.1\u001b[0K\u001b[1G⢀ @jupyterlab/javascript-extension@^0.19.1\u001b[0K\u001b[1G⠠ @jupyterlab/javascript-extension@^0.19.1\u001b[0K\u001b[1G⠐ @jupyterlab/javascript-extension@^0.19.1\u001b[0K\u001b[1G⠈ @jupyterlab/javascript-extension@^0.19.1\u001b[0K\u001b[1G⠁ @jupyterlab/javascript-extension@^0.19.1\u001b[0K\u001b[1G⠂ @jupyterlab/javascript-extension@^0.19.1\u001b[0K\u001b[1G⠄ @jupyterlab/javascript-extension@^0.19.1\u001b[0K\u001b[1G⡀ @jupyterlab/json-extension@^0.18.1\u001b[0K\u001b[1G⢀ @jupyterlab/json-extension@^0.18.1\u001b[0K\u001b[1G⠠ @jupyterlab/json-extension@^0.18.1\u001b[0K\u001b[1G⠐ @jupyterlab/json-extension@^0.18.1\u001b[0K\u001b[1G⠈ @jupyterlab/json-extension@^0.18.1\u001b[0K\u001b[1G⠁ @jupyterlab/json-extension@^0.18.1\u001b[0K\u001b[1G⠂ @jupyterlab/json-extension@^0.18.1\u001b[0K\u001b[1G⠄ @jupyterlab/json-extension@^0.18.1\u001b[0K\u001b[1G⡀ @jupyterlab/json-extension@^0.18.1\u001b[0K\u001b[1G⢀ @jupyterlab/json-extension@^0.18.1\u001b[0K\u001b[1G⠠ @jupyterlab/json-extension@^0.18.1\u001b[0K\u001b[1G⠐ @jupyterlab/json-extension@^0.18.1\u001b[0K\u001b[1G⠈ react-json-tree@^0.11.0\u001b[0K\u001b[1G⠁ react-base16-styling@^0.5.1\u001b[0K\u001b[2K\u001b[1G\u001b[33mwarning\u001b[39m @jupyterlab/json-extension > react-json-tree > babel-runtime > core-js@2.6.11: core-js@<3 is no longer maintained and not recommended for usage due to the number of issues. Please, upgrade your dependencies to the actual version of core-js@3.\n"
     ]
    },
    {
     "name": "stdout",
     "output_type": "stream",
     "text": [
      "\u001b[1G⠂ @jupyterlab/launcher-extension@^0.19.1\u001b[0K\u001b[1G⠄ @jupyterlab/launcher-extension@^0.19.1\u001b[0K\u001b[1G⡀ @jupyterlab/launcher-extension@^0.19.1\u001b[0K\u001b[1G⢀ @jupyterlab/launcher-extension@^0.19.1\u001b[0K\u001b[1G⠠ @jupyterlab/launcher-extension@^0.19.1\u001b[0K\u001b[1G⠐ @jupyterlab/launcher-extension@^0.19.1\u001b[0K\u001b[1G⠈ @jupyterlab/launcher-extension@^0.19.1\u001b[0K\u001b[1G⠁ @jupyterlab/launcher-extension@^0.19.1\u001b[0K\u001b[1G⠂ @jupyterlab/launcher-extension@^0.19.1\u001b[0K\u001b[1G⠄ @jupyterlab/launcher-extension@^0.19.1\u001b[0K\u001b[1G⡀ @jupyterlab/launcher-extension@^0.19.1\u001b[0K\u001b[1G⢀ @jupyterlab/launcher-extension@^0.19.1\u001b[0K\u001b[1G⠠ @jupyterlab/mainmenu-extension@^0.8.1\u001b[0K\u001b[1G⠐ @jupyterlab/mainmenu-extension@^0.8.1\u001b[0K\u001b[1G⠈ @jupyterlab/mainmenu-extension@^0.8.1\u001b[0K\u001b[1G⠁ @jupyterlab/mainmenu-extension@^0.8.1\u001b[0K\u001b[1G⠂ @jupyterlab/mainmenu-extension@^0.8.1\u001b[0K\u001b[1G⠄ @jupyterlab/mainmenu-extension@^0.8.1\u001b[0K\u001b[1G⡀ @jupyterlab/mainmenu-extension@^0.8.1\u001b[0K\u001b[1G⢀ @jupyterlab/mainmenu-extension@^0.8.1\u001b[0K\u001b[1G⠠ @jupyterlab/mainmenu-extension@^0.8.1\u001b[0K\u001b[1G⠐ @jupyterlab/mainmenu-extension@^0.8.1\u001b[0K\u001b[1G⠈ @jupyterlab/mainmenu-extension@^0.8.1\u001b[0K\u001b[1G⠁ @jupyterlab/mainmenu-extension@^0.8.1\u001b[0K\u001b[1G⠂ @jupyterlab/mainmenu-extension@^0.8.1\u001b[0K\u001b[1G⠄ @jupyterlab/markdownviewer-extension@^0.19.1\u001b[0K\u001b[1G⡀ @jupyterlab/markdownviewer-extension@^0.19.1\u001b[0K\u001b[1G⢀ @jupyterlab/markdownviewer-extension@^0.19.1\u001b[0K\u001b[1G⠠ @jupyterlab/markdownviewer-extension@^0.19.1\u001b[0K\u001b[1G⠐ @jupyterlab/markdownviewer-extension@^0.19.1\u001b[0K\u001b[1G⠈ @jupyterlab/markdownviewer-extension@^0.19.1\u001b[0K\u001b[1G⠁ @jupyterlab/markdownviewer-extension@^0.19.1\u001b[0K\u001b[1G⠂ @jupyterlab/markdownviewer-extension@^0.19.1\u001b[0K\u001b[1G⠄ @jupyterlab/markdownviewer-extension@^0.19.1\u001b[0K\u001b[1G⡀ @jupyterlab/markdownviewer-extension@^0.19.1\u001b[0K\u001b[1G⢀ @jupyterlab/markdownviewer-extension@^0.19.1\u001b[0K\u001b[1G⠠ @jupyterlab/markdownviewer-extension@^0.19.1\u001b[0K\u001b[1G⠐ @jupyterlab/mathjax2@^0.7.1\u001b[0K\u001b[1G⠈ @jupyterlab/mathjax2@^0.7.1\u001b[0K\u001b[1G⠁ @jupyterlab/mathjax2@^0.7.1\u001b[0K\u001b[1G⠂ @jupyterlab/mathjax2@^0.7.1\u001b[0K\u001b[1G⠄ @jupyterlab/mathjax2@^0.7.1\u001b[0K\u001b[1G⡀ @jupyterlab/mathjax2@^0.7.1\u001b[0K\u001b[1G⢀ @jupyterlab/mathjax2@^0.7.1\u001b[0K\u001b[1G⠠ @jupyterlab/mathjax2@^0.7.1\u001b[0K\u001b[1G⠐ @jupyterlab/mathjax2@^0.7.1\u001b[0K\u001b[1G⠈ @jupyterlab/mathjax2@^0.7.1\u001b[0K\u001b[1G⠁ @jupyterlab/mathjax2@^0.7.1\u001b[0K\u001b[1G⠂ @jupyterlab/mathjax2@^0.7.1\u001b[0K\u001b[1G⠄ @jupyterlab/mathjax2-extension@^0.7.1\u001b[0K\u001b[1G⡀ @jupyterlab/mathjax2-extension@^0.7.1\u001b[0K\u001b[1G⢀ @jupyterlab/mathjax2-extension@^0.7.1\u001b[0K\u001b[1G⠠ @jupyterlab/mathjax2-extension@^0.7.1\u001b[0K\u001b[1G⠐ @jupyterlab/mathjax2-extension@^0.7.1\u001b[0K\u001b[1G⠈ @jupyterlab/mathjax2-extension@^0.7.1\u001b[0K\u001b[1G⠁ @jupyterlab/mathjax2-extension@^0.7.1\u001b[0K\u001b[1G⠂ @jupyterlab/mathjax2-extension@^0.7.1\u001b[0K\u001b[1G⠄ @jupyterlab/mathjax2-extension@^0.7.1\u001b[0K\u001b[1G⡀ @jupyterlab/mathjax2-extension@^0.7.1\u001b[0K\u001b[1G⢀ @jupyterlab/mathjax2-extension@^0.7.1\u001b[0K\u001b[1G⠠ @jupyterlab/mathjax2-extension@^0.7.1\u001b[0K\u001b[1G⠐ @jupyterlab/notebook-extension@^0.19.1\u001b[0K\u001b[1G⠈ @jupyterlab/notebook-extension@^0.19.1\u001b[0K\u001b[1G⠁ @jupyterlab/notebook-extension@^0.19.1\u001b[0K\u001b[1G⠂ @jupyterlab/notebook-extension@^0.19.1\u001b[0K\u001b[1G⠄ @jupyterlab/notebook-extension@^0.19.1\u001b[0K\u001b[1G⡀ @jupyterlab/notebook-extension@^0.19.1\u001b[0K\u001b[1G⢀ @jupyterlab/notebook-extension@^0.19.1\u001b[0K\u001b[1G⠠ @jupyterlab/notebook-extension@^0.19.1\u001b[0K\u001b[1G⠐ @jupyterlab/notebook-extension@^0.19.1\u001b[0K\u001b[1G⠈ @jupyterlab/notebook-extension@^0.19.1\u001b[0K\u001b[1G⠁ @jupyterlab/notebook-extension@^0.19.1\u001b[0K\u001b[1G⠂ @jupyterlab/notebook-extension@^0.19.1\u001b[0K\u001b[1G⠄ @jupyterlab/notebook-extension@^0.19.1\u001b[0K\u001b[1G⡀ @jupyterlab/pdf-extension@^0.10.1\u001b[0K\u001b[1G⢀ @jupyterlab/pdf-extension@^0.10.1\u001b[0K\u001b[1G⠠ @jupyterlab/pdf-extension@^0.10.1\u001b[0K\u001b[1G⠐ @jupyterlab/pdf-extension@^0.10.1\u001b[0K\u001b[1G⠈ @jupyterlab/pdf-extension@^0.10.1\u001b[0K\u001b[1G⠁ @jupyterlab/pdf-extension@^0.10.1\u001b[0K\u001b[1G⠂ @jupyterlab/pdf-extension@^0.10.1\u001b[0K\u001b[1G⠄ @jupyterlab/pdf-extension@^0.10.1\u001b[0K\u001b[1G⡀ @jupyterlab/pdf-extension@^0.10.1\u001b[0K\u001b[1G⢀ @jupyterlab/pdf-extension@^0.10.1\u001b[0K\u001b[1G⠠ @jupyterlab/pdf-extension@^0.10.1\u001b[0K\u001b[1G⠐ @jupyterlab/pdf-extension@^0.10.1\u001b[0K\u001b[1G⠈ @jupyterlab/rendermime-extension@^0.13.1\u001b[0K\u001b[1G⠁ @jupyterlab/rendermime-extension@^0.13.1\u001b[0K\u001b[1G⠂ @jupyterlab/rendermime-extension@^0.13.1\u001b[0K\u001b[1G⠄ @jupyterlab/rendermime-extension@^0.13.1\u001b[0K\u001b[1G⡀ @jupyterlab/rendermime-extension@^0.13.1\u001b[0K\u001b[1G⢀ @jupyterlab/rendermime-extension@^0.13.1\u001b[0K\u001b[1G⠠ @jupyterlab/rendermime-extension@^0.13.1\u001b[0K\u001b[1G⠐ @jupyterlab/rendermime-extension@^0.13.1\u001b[0K\u001b[1G⠈ @jupyterlab/rendermime-extension@^0.13.1\u001b[0K\u001b[1G⠁ @jupyterlab/rendermime-extension@^0.13.1\u001b[0K\u001b[1G⠂ @jupyterlab/rendermime-extension@^0.13.1\u001b[0K\u001b[1G⠄ @jupyterlab/rendermime-extension@^0.13.1\u001b[0K\u001b[1G⡀ @jupyterlab/running@^0.19.1\u001b[0K\u001b[1G⢀ @jupyterlab/running@^0.19.1\u001b[0K\u001b[1G⠠ @jupyterlab/running@^0.19.1\u001b[0K\u001b[1G⠐ @jupyterlab/running@^0.19.1\u001b[0K\u001b[1G⠈ @jupyterlab/running@^0.19.1\u001b[0K\u001b[1G⠁ @jupyterlab/running@^0.19.1\u001b[0K\u001b[1G⠂ @jupyterlab/running@^0.19.1\u001b[0K\u001b[1G⠄ @jupyterlab/running@^0.19.1\u001b[0K\u001b[1G⡀ @jupyterlab/running@^0.19.1\u001b[0K\u001b[1G⢀ @jupyterlab/running@^0.19.1\u001b[0K\u001b[1G⠠ @jupyterlab/running@^0.19.1\u001b[0K\u001b[1G⠐ @jupyterlab/running@^0.19.1\u001b[0K\u001b[1G⠈ @jupyterlab/running@^0.19.1\u001b[0K\u001b[1G⠁ @jupyterlab/running-extension@^0.19.1\u001b[0K\u001b[1G⠂ @jupyterlab/running-extension@^0.19.1\u001b[0K\u001b[1G⠄ @jupyterlab/running-extension@^0.19.1\u001b[0K\u001b[1G⡀ @jupyterlab/running-extension@^0.19.1\u001b[0K\u001b[1G⢀ @jupyterlab/running-extension@^0.19.1\u001b[0K\u001b[1G⠠ @jupyterlab/running-extension@^0.19.1\u001b[0K\u001b[1G⠐ @jupyterlab/running-extension@^0.19.1\u001b[0K\u001b[1G⠈ @jupyterlab/running-extension@^0.19.1\u001b[0K\u001b[1G⠁ @jupyterlab/running-extension@^0.19.1\u001b[0K\u001b[1G⠂ @jupyterlab/running-extension@^0.19.1\u001b[0K\u001b[1G⠄ @jupyterlab/running-extension@^0.19.1\u001b[0K\u001b[1G⡀ @jupyterlab/running-extension@^0.19.1\u001b[0K\u001b[1G⢀ @jupyterlab/settingeditor@^0.8.1\u001b[0K\u001b[1G⠠ @jupyterlab/settingeditor@^0.8.1\u001b[0K\u001b[1G⠐ @jupyterlab/settingeditor@^0.8.1\u001b[0K\u001b[1G⠈ @jupyterlab/settingeditor@^0.8.1\u001b[0K\u001b[1G⠁ @jupyterlab/settingeditor@^0.8.1\u001b[0K\u001b[1G⠂ @jupyterlab/settingeditor@^0.8.1\u001b[0K\u001b[1G⠄ @jupyterlab/settingeditor@^0.8.1\u001b[0K\u001b[1G⡀ @jupyterlab/settingeditor@^0.8.1\u001b[0K\u001b[1G⢀ @jupyterlab/settingeditor@^0.8.1\u001b[0K\u001b[1G⠠ @jupyterlab/settingeditor@^0.8.1\u001b[0K\u001b[1G⠐ @jupyterlab/settingeditor@^0.8.1\u001b[0K\u001b[1G⠈ @jupyterlab/settingeditor@^0.8.1\u001b[0K\u001b[1G⠁ @jupyterlab/settingeditor@^0.8.1\u001b[0K\u001b[1G⠂ @jupyterlab/settingeditor-extension@^0.14.1\u001b[0K\u001b[1G⠄ @jupyterlab/settingeditor-extension@^0.14.1\u001b[0K\u001b[1G⡀ @jupyterlab/settingeditor-extension@^0.14.1\u001b[0K\u001b[1G⢀ @jupyterlab/settingeditor-extension@^0.14.1\u001b[0K\u001b[1G⠠ @jupyterlab/settingeditor-extension@^0.14.1\u001b[0K\u001b[1G⠐ @jupyterlab/settingeditor-extension@^0.14.1\u001b[0K\u001b[1G⠈ @jupyterlab/settingeditor-extension@^0.14.1\u001b[0K\u001b[1G⠁ @jupyterlab/settingeditor-extension@^0.14.1\u001b[0K\u001b[1G⠂ @jupyterlab/settingeditor-extension@^0.14.1\u001b[0K\u001b[1G⠄ @jupyterlab/settingeditor-extension@^0.14.1\u001b[0K\u001b[1G⡀ @jupyterlab/settingeditor-extension@^0.14.1\u001b[0K\u001b[1G⢀ @jupyterlab/settingeditor-extension@^0.14.1\u001b[0K\u001b[1G⠠ @jupyterlab/shortcuts-extension@^0.19.3\u001b[0K\u001b[1G⠐ @jupyterlab/shortcuts-extension@^0.19.3\u001b[0K\u001b[1G⠈ @jupyterlab/shortcuts-extension@^0.19.3\u001b[0K\u001b[1G⠁ @jupyterlab/shortcuts-extension@^0.19.3\u001b[0K\u001b[1G⠂ @jupyterlab/shortcuts-extension@^0.19.3\u001b[0K\u001b[1G⠄ @jupyterlab/shortcuts-extension@^0.19.3\u001b[0K\u001b[1G⡀ @jupyterlab/shortcuts-extension@^0.19.3\u001b[0K\u001b[1G⢀ @jupyterlab/shortcuts-extension@^0.19.3\u001b[0K\u001b[1G⠠ @jupyterlab/shortcuts-extension@^0.19.3\u001b[0K\u001b[1G⠐ @jupyterlab/shortcuts-extension@^0.19.3\u001b[0K\u001b[1G⠈ @jupyterlab/shortcuts-extension@^0.19.3\u001b[0K\u001b[1G⠁ @jupyterlab/shortcuts-extension@^0.19.3\u001b[0K\u001b[1G⠂ @jupyterlab/shortcuts-extension@^0.19.3\u001b[0K\u001b[1G⠄ @jupyterlab/shortcuts-extension@^0.19.3\u001b[0K\u001b[1G⡀ @jupyterlab/shortcuts-extension@^0.19.3\u001b[0K\u001b[1G⢀ @jupyterlab/shortcuts-extension@^0.19.3\u001b[0K\u001b[1G⠠ @jupyterlab/tabmanager-extension@^0.19.1\u001b[0K\u001b[1G⠐ @jupyterlab/tabmanager-extension@^0.19.1\u001b[0K\u001b[1G⠈ @jupyterlab/tabmanager-extension@^0.19.1\u001b[0K\u001b[1G⠁ @jupyterlab/tabmanager-extension@^0.19.1\u001b[0K\u001b[1G⠂ @jupyterlab/tabmanager-extension@^0.19.1\u001b[0K\u001b[1G⠄ @jupyterlab/tabmanager-extension@^0.19.1\u001b[0K\u001b[1G⡀ @jupyterlab/tabmanager-extension@^0.19.1\u001b[0K\u001b[1G⢀ @jupyterlab/tabmanager-extension@^0.19.1\u001b[0K\u001b[1G⠠ @jupyterlab/tabmanager-extension@^0.19.1\u001b[0K\u001b[1G⠐ @jupyterlab/tabmanager-extension@^0.19.1\u001b[0K\u001b[1G⠈ @jupyterlab/tabmanager-extension@^0.19.1\u001b[0K\u001b[1G⠁ @jupyterlab/tabmanager-extension@^0.19.1\u001b[0K"
     ]
    },
    {
     "name": "stdout",
     "output_type": "stream",
     "text": [
      "\u001b[1G⠂ @jupyterlab/tabmanager-extension@^0.19.1\u001b[0K\u001b[1G⠄ @jupyterlab/terminal@^0.19.1\u001b[0K\u001b[1G⡀ @jupyterlab/terminal@^0.19.1\u001b[0K\u001b[1G⢀ @jupyterlab/terminal@^0.19.1\u001b[0K\u001b[1G⠠ @jupyterlab/terminal@^0.19.1\u001b[0K\u001b[1G⠐ @jupyterlab/terminal@^0.19.1\u001b[0K\u001b[1G⠈ @jupyterlab/terminal@^0.19.1\u001b[0K\u001b[1G⠁ @jupyterlab/terminal@^0.19.1\u001b[0K\u001b[1G⠂ @jupyterlab/terminal@^0.19.1\u001b[0K\u001b[1G⠄ @jupyterlab/terminal@^0.19.1\u001b[0K\u001b[1G⡀ @jupyterlab/terminal@^0.19.1\u001b[0K\u001b[1G⢀ @jupyterlab/terminal@^0.19.1\u001b[0K\u001b[1G⠠ @jupyterlab/terminal@^0.19.1\u001b[0K\u001b[1G⠐ @jupyterlab/terminal-extension@^0.19.1\u001b[0K\u001b[1G⠈ @jupyterlab/terminal-extension@^0.19.1\u001b[0K\u001b[1G⠁ @jupyterlab/terminal-extension@^0.19.1\u001b[0K\u001b[1G⠂ @jupyterlab/terminal-extension@^0.19.1\u001b[0K\u001b[1G⠄ @jupyterlab/terminal-extension@^0.19.1\u001b[0K\u001b[1G⡀ @jupyterlab/terminal-extension@^0.19.1\u001b[0K\u001b[1G⢀ @jupyterlab/terminal-extension@^0.19.1\u001b[0K\u001b[1G⠠ @jupyterlab/terminal-extension@^0.19.1\u001b[0K\u001b[1G⠐ @jupyterlab/terminal-extension@^0.19.1\u001b[0K\u001b[1G⠈ @jupyterlab/terminal-extension@^0.19.1\u001b[0K\u001b[1G⠁ @jupyterlab/terminal-extension@^0.19.1\u001b[0K\u001b[1G⠂ @jupyterlab/terminal-extension@^0.19.1\u001b[0K\u001b[1G⠄ @jupyterlab/terminal-extension@^0.19.1\u001b[0K\u001b[1G⡀ @jupyterlab/theme-dark-extension@^0.19.1\u001b[0K\u001b[1G⢀ @jupyterlab/theme-dark-extension@^0.19.1\u001b[0K\u001b[1G⠠ @jupyterlab/theme-dark-extension@^0.19.1\u001b[0K\u001b[1G⠐ @jupyterlab/theme-dark-extension@^0.19.1\u001b[0K\u001b[1G⠈ @jupyterlab/theme-dark-extension@^0.19.1\u001b[0K\u001b[1G⠁ @jupyterlab/theme-dark-extension@^0.19.1\u001b[0K\u001b[1G⠂ @jupyterlab/theme-dark-extension@^0.19.1\u001b[0K\u001b[1G⠄ @jupyterlab/theme-dark-extension@^0.19.1\u001b[0K\u001b[1G⡀ @jupyterlab/theme-dark-extension@^0.19.1\u001b[0K\u001b[1G⢀ @jupyterlab/theme-dark-extension@^0.19.1\u001b[0K\u001b[1G⠠ @jupyterlab/theme-dark-extension@^0.19.1\u001b[0K\u001b[1G⠐ @jupyterlab/theme-dark-extension@^0.19.1\u001b[0K\u001b[1G⠈ @jupyterlab/theme-light-extension@^0.19.1\u001b[0K\u001b[1G⠁ @jupyterlab/theme-light-extension@^0.19.1\u001b[0K\u001b[1G⠂ @jupyterlab/theme-light-extension@^0.19.1\u001b[0K\u001b[1G⠄ @jupyterlab/theme-light-extension@^0.19.1\u001b[0K\u001b[1G⡀ @jupyterlab/theme-light-extension@^0.19.1\u001b[0K\u001b[1G⢀ @jupyterlab/theme-light-extension@^0.19.1\u001b[0K\u001b[1G⠠ @jupyterlab/theme-light-extension@^0.19.1\u001b[0K\u001b[1G⠐ @jupyterlab/theme-light-extension@^0.19.1\u001b[0K\u001b[1G⠈ @jupyterlab/theme-light-extension@^0.19.1\u001b[0K\u001b[1G⠁ @jupyterlab/theme-light-extension@^0.19.1\u001b[0K\u001b[1G⠂ @jupyterlab/theme-light-extension@^0.19.1\u001b[0K\u001b[1G⠄ @jupyterlab/theme-light-extension@^0.19.1\u001b[0K\u001b[1G⡀ @jupyterlab/tooltip@^0.19.1\u001b[0K\u001b[1G⢀ @jupyterlab/tooltip@^0.19.1\u001b[0K\u001b[1G⠠ @jupyterlab/tooltip@^0.19.1\u001b[0K\u001b[1G⠐ @jupyterlab/tooltip@^0.19.1\u001b[0K\u001b[1G⠈ @jupyterlab/tooltip@^0.19.1\u001b[0K\u001b[1G⠁ @jupyterlab/tooltip@^0.19.1\u001b[0K\u001b[1G⠂ @jupyterlab/tooltip@^0.19.1\u001b[0K\u001b[1G⠄ @jupyterlab/tooltip@^0.19.1\u001b[0K\u001b[1G⡀ @jupyterlab/tooltip@^0.19.1\u001b[0K\u001b[1G⢀ @jupyterlab/tooltip@^0.19.1\u001b[0K\u001b[1G⠠ @jupyterlab/tooltip@^0.19.1\u001b[0K\u001b[1G⠐ @jupyterlab/tooltip@^0.19.1\u001b[0K\u001b[1G⠈ @jupyterlab/tooltip@^0.19.1\u001b[0K\u001b[1G⠁ @jupyterlab/tooltip-extension@^0.19.1\u001b[0K\u001b[1G⠂ @jupyterlab/tooltip-extension@^0.19.1\u001b[0K\u001b[1G⠄ @jupyterlab/tooltip-extension@^0.19.1\u001b[0K\u001b[1G⡀ @jupyterlab/tooltip-extension@^0.19.1\u001b[0K\u001b[1G⢀ @jupyterlab/tooltip-extension@^0.19.1\u001b[0K\u001b[1G⠠ @jupyterlab/tooltip-extension@^0.19.1\u001b[0K\u001b[1G⠐ @jupyterlab/tooltip-extension@^0.19.1\u001b[0K\u001b[1G⠈ @jupyterlab/tooltip-extension@^0.19.1\u001b[0K\u001b[1G⠁ @jupyterlab/tooltip-extension@^0.19.1\u001b[0K\u001b[1G⠂ @jupyterlab/tooltip-extension@^0.19.1\u001b[0K\u001b[1G⠄ @jupyterlab/tooltip-extension@^0.19.1\u001b[0K\u001b[1G⡀ @jupyterlab/tooltip-extension@^0.19.1\u001b[0K\u001b[1G⢀ @jupyterlab/vdom-extension@^0.18.1\u001b[0K\u001b[1G⠠ @jupyterlab/vdom-extension@^0.18.1\u001b[0K\u001b[1G⠐ @jupyterlab/vdom-extension@^0.18.1\u001b[0K\u001b[1G⠈ @jupyterlab/vdom-extension@^0.18.1\u001b[0K\u001b[1G⠁ @jupyterlab/vdom-extension@^0.18.1\u001b[0K\u001b[1G⠂ @jupyterlab/vdom-extension@^0.18.1\u001b[0K\u001b[1G⠄ @jupyterlab/vdom-extension@^0.18.1\u001b[0K\u001b[1G⡀ @jupyterlab/vdom-extension@^0.18.1\u001b[0K\u001b[1G⢀ @jupyterlab/vdom-extension@^0.18.1\u001b[0K\u001b[1G⠠ @jupyterlab/vdom-extension@^0.18.1\u001b[0K\u001b[1G⠐ @jupyterlab/vdom-extension@^0.18.1\u001b[0K\u001b[1G⠈ @jupyterlab/vdom-extension@^0.18.1\u001b[0K\u001b[1G⠁ @jupyterlab/vdom-extension@^0.18.1\u001b[0K\u001b[1G⠂ react-dom@~16.4.2\u001b[0K\u001b[1G⠄ react-dom@~16.4.2\u001b[0K\u001b[1G⡀ react-dom@~16.4.2\u001b[0K\u001b[1G⢀ react-dom@~16.4.2\u001b[0K\u001b[1G⠠ react-dom@~16.4.2\u001b[0K\u001b[1G⠐ react-dom@~16.4.2\u001b[0K\u001b[1G⠈ react-dom@~16.4.2\u001b[0K\u001b[1G⠁ react-dom@~16.4.2\u001b[0K\u001b[1G⠂ react-dom@~16.4.2\u001b[0K\u001b[1G⠄ react-dom@~16.4.2\u001b[0K\u001b[1G⡀ react-dom@~16.4.2\u001b[0K\u001b[1G⢀ react-dom@~16.4.2\u001b[0K\u001b[1G⠠ @jupyterlab/vega4-extension@^0.18.1\u001b[0K\u001b[1G⠐ @jupyterlab/vega4-extension@^0.18.1\u001b[0K\u001b[1G⠈ @jupyterlab/vega4-extension@^0.18.1\u001b[0K\u001b[1G⠁ @jupyterlab/vega4-extension@^0.18.1\u001b[0K\u001b[1G⠂ @jupyterlab/vega4-extension@^0.18.1\u001b[0K\u001b[1G⠄ @jupyterlab/vega4-extension@^0.18.1\u001b[0K\u001b[1G⡀ @jupyterlab/vega4-extension@^0.18.1\u001b[0K\u001b[1G⢀ @jupyterlab/vega4-extension@^0.18.1\u001b[0K\u001b[1G⠠ @jupyterlab/vega4-extension@^0.18.1\u001b[0K\u001b[1G⠐ @jupyterlab/vega4-extension@^0.18.1\u001b[0K\u001b[1G⠈ @jupyterlab/vega4-extension@^0.18.1\u001b[0K\u001b[1G⠁ @jupyterlab/vega4-extension@^0.18.1\u001b[0K\u001b[1G⠂ vega-tooltip@^0.12.0\u001b[0K\u001b[1G⠄ vega-util@^1.7.0\u001b[0K\u001b[1G⡀ vega-util@^1.7.0\u001b[0K\u001b[1G⢀ d3-timer@1\u001b[0K\u001b[1G⠠ mem@^4.0.0\u001b[0K\u001b[1G⠐ number-is-nan@^1.0.0\u001b[0K\u001b[1G⠈ isexe@^2.0.0\u001b[0K\u001b[1G⠁ @jupyterlab/buildutils@^0.11.1\u001b[0K\u001b[1G⠂ @jupyterlab/buildutils@^0.11.1\u001b[0K\u001b[1G⠄ @jupyterlab/buildutils@^0.11.1\u001b[0K\u001b[1G⡀ @jupyterlab/buildutils@^0.11.1\u001b[0K\u001b[1G⢀ @jupyterlab/buildutils@^0.11.1\u001b[0K\u001b[1G⠠ @jupyterlab/buildutils@^0.11.1\u001b[0K\u001b[1G⠐ @jupyterlab/buildutils@^0.11.1\u001b[0K\u001b[1G⠈ @jupyterlab/buildutils@^0.11.1\u001b[0K\u001b[1G⠁ @jupyterlab/buildutils@^0.11.1\u001b[0K\u001b[1G⠂ @jupyterlab/buildutils@^0.11.1\u001b[0K\u001b[1G⠄ @jupyterlab/buildutils@^0.11.1\u001b[0K\u001b[1G⡀ @jupyterlab/buildutils@^0.11.1\u001b[0K\u001b[1G⢀ @jupyterlab/buildutils@^0.11.1\u001b[0K\u001b[1G⠠ universalify@^0.1.0\u001b[0K\u001b[1G⠐ restore-cursor@^2.0.0\u001b[0K\u001b[1G⠈ is-promise@^2.1.0\u001b[0K\u001b[1G⠁ url-to-options@^1.0.1\u001b[0K\u001b[1G⠂ p-is-promise@^1.1.0\u001b[0K\u001b[1G⠄ has-symbol-support-x@^1.4.1\u001b[0K\u001b[1G⡀ is-plain-obj@^1.0.0\u001b[0K\u001b[1G⢀ is-plain-obj@^1.0.0\u001b[0K\u001b[1G⠠ is-plain-obj@^1.0.0\u001b[0K\u001b[1G⠐ is-plain-obj@^1.0.0\u001b[0K\u001b[1G⠈ has-flag@^1.0.0\u001b[0K\u001b[1G⠁ postcss@^6.0.1\u001b[0K\u001b[1G⠂ postcss-value-parser@^3.2.3\u001b[0K\u001b[1G⠄ postcss-value-parser@^3.0.1\u001b[0K\u001b[2K\u001b[1G\u001b[33mwarning\u001b[39m css-loader > cssnano > autoprefixer > browserslist@1.7.7: Browserslist 2 could fail on reading Browserslist >3.0 config used in other tools.\n",
      "\u001b[2K\u001b[1G\u001b[33mwarning\u001b[39m css-loader > cssnano > postcss-merge-rules > browserslist@1.7.7: Browserslist 2 could fail on reading Browserslist >3.0 config used in other tools.\n",
      "\u001b[1G⡀ electron-to-chromium@^1.2.7\u001b[0K\u001b[2K\u001b[1G\u001b[33mwarning\u001b[39m css-loader > cssnano > postcss-merge-rules > caniuse-api > browserslist@1.7.7: Browserslist 2 could fail on reading Browserslist >3.0 config used in other tools.\n",
      "\u001b[1G⢀ jsesc@~0.5.0\u001b[0K\u001b[1G⠠ color-string@^0.3.0\u001b[0K\u001b[1G⠐ color-string@^0.3.0\u001b[0K\u001b[1G⠈ duplicate-package-checker-webpack-plugin@^3.0.0\u001b[0K\u001b[1G⠁ schema-utils@^0.4.5\u001b[0K\u001b[1G⠂ punycode@^2.1.0\u001b[0K\u001b[1G⠄ lodash@^4.17.14\u001b[0K\u001b[1G⡀ source-map@~0.6.1\u001b[0K\u001b[1G⢀ object-assign@^4.0.1\u001b[0K\u001b[1G⠠ utila@^0.4.0\u001b[0K\u001b[1G⠐ raw-loader@~0.5.1\u001b[0K\u001b[1G⠈ style-loader@~0.21.0\u001b[0K\u001b[1G⠁ pkg-dir@^2.0.0\u001b[0K\u001b[1G⠂ xtend@~4.0.1\u001b[0K\u001b[1G⠄ schema-utils@^0.4.3\u001b[0K\u001b[1G⡀ worker-farm@^1.5.2\u001b[0K\u001b[1G⢀ inherits@2.0.3\u001b[0K\u001b[1G⠠ long@^3.2.0\u001b[0K\u001b[1G⠐ is-descriptor@^0.1.0\u001b[0K\u001b[1G⠈ @webassemblyjs/wast-printer@1.5.12\u001b[0K\u001b[1G⠁ pascalcase@^0.1.1\u001b[0K\u001b[1G⠂ sha.js@^2.4.0\u001b[0K\u001b[1G⠄ readable-stream@^2.0.2\u001b[0K\u001b[1G⡀ safe-buffer@^5.1.2\u001b[0K\u001b[1G⢀ brorand@^1.0.1\u001b[0K\u001b[1G⠠ minimalistic-assert@^1.0.0\u001b[0K\u001b[1G⠐ npm-normalize-package-bin@^1.0.1\u001b[0K\u001b[1G⠈ webpack-cli@^3.0.3\u001b[0K\u001b[1G⠁ resolve-dir@^1.0.0\u001b[0K\u001b[2K\u001b[1G\u001b[2K\u001b[1G\u001b[2m[3/5]\u001b[22m Fetching packages...\n",
      "\u001b[2K\u001b[1G\u001b[1G[-----------------------------------------------------------------------] 0/852(node:525) [DEP0005] DeprecationWarning: Buffer() is deprecated due to security and usability issues. Please use the Buffer.alloc(), Buffer.allocUnsafe(), or Buffer.from() methods instead.\n"
     ]
    },
    {
     "name": "stdout",
     "output_type": "stream",
     "text": [
      "\u001b[1G[###-------------------------------------------------------------------] 41/852\u001b[1G[##########-----------------------------------------------------------] 121/852\u001b[1G[###############------------------------------------------------------] 191/852\u001b[1G[##################---------------------------------------------------] 227/852\u001b[1G[#########################--------------------------------------------] 305/852\u001b[1G[##############################---------------------------------------] 369/852\u001b[1G[#####################################--------------------------------] 452/852\u001b[1G[##########################################---------------------------] 515/852\u001b[1G[############################################-------------------------] 540/852\u001b[1G[###################################################------------------] 635/852\u001b[1G[#########################################################------------] 708/852\u001b[1G[##############################################################-------] 762/852\u001b[1G[####################################################################-] 840/852\u001b[2K\u001b[1G\u001b[34minfo\u001b[39m fsevents@1.2.11: The platform \"linux\" is incompatible with this module.\n",
      "\u001b[2K\u001b[1G\u001b[34minfo\u001b[39m \"fsevents@1.2.11\" is an optional dependency and failed compatibility check. Excluding it from installation.\n",
      "\u001b[2K\u001b[1G\u001b[2m[4/5]\u001b[22m Linking dependencies...\n",
      "\u001b[2K\u001b[1G\u001b[33mwarning\u001b[39m \"@jupyterlab/vdom-extension > @nteract/transform-vdom@1.1.1\" has incorrect peer dependency \"react@^15.6.1\".\n",
      "\u001b[2K\u001b[1G\u001b[33mwarning\u001b[39m \"@jupyterlab/vega4-extension > vega-embed > vega-lite@2.7.0\" has unmet peer dependency \"vega@^3.0.0 || ^4.0.0\".\n",
      "\u001b[2K\u001b[1G\u001b[33mwarning\u001b[39m \"@jupyterlab/vega4-extension > vega-embed > vega-themes@2.6.0\" has unmet peer dependency \"vega@*\".\n",
      "\u001b[1G[#####################################################################] 852/852\u001b[2K\u001b[1G\u001b[2K\u001b[1G\u001b[1G[-----------------------------------------------------------------------] 0/887\u001b[2K\u001b[1G\u001b[2K\u001b[1G\u001b[1G[---------------------------------------------------------------------] 0/17210\u001b[1G[-------------------------------------------------------------------] 128/17210\u001b[1G[#------------------------------------------------------------------] 256/17210\u001b[1G[##-----------------------------------------------------------------] 628/17210\u001b[1G[###----------------------------------------------------------------] 834/17210\u001b[1G[####--------------------------------------------------------------] 1018/17210\u001b[1G[#####-------------------------------------------------------------] 1279/17210\u001b[1G[######------------------------------------------------------------] 1644/17210\u001b[1G[#######-----------------------------------------------------------] 1765/17210\u001b[1G[#######-----------------------------------------------------------] 1912/17210\u001b[1G[########----------------------------------------------------------] 2121/17210\u001b[1G[#########---------------------------------------------------------] 2417/17210\u001b[1G[##########--------------------------------------------------------] 2555/17210\u001b[1G[###########-------------------------------------------------------] 2931/17210\u001b[1G[#############-----------------------------------------------------] 3281/17210\u001b[1G[##############----------------------------------------------------] 3571/17210\u001b[1G[###############---------------------------------------------------] 3816/17210\u001b[1G[################--------------------------------------------------] 4209/17210\u001b[1G[##################------------------------------------------------] 4590/17210\u001b[1G[###################-----------------------------------------------] 4955/17210\u001b[1G[####################----------------------------------------------] 5330/17210\u001b[1G[#####################---------------------------------------------] 5551/17210\u001b[1G[#######################-------------------------------------------] 5962/17210\u001b[1G[########################------------------------------------------] 6224/17210\u001b[1G[#########################-----------------------------------------] 6614/17210\u001b[1G[###########################---------------------------------------] 6991/17210\u001b[1G[############################--------------------------------------] 7266/17210\u001b[1G[#############################-------------------------------------] 7598/17210\u001b[1G[##############################------------------------------------] 7869/17210\u001b[1G[###############################-----------------------------------] 8147/17210\u001b[1G[################################----------------------------------] 8414/17210\u001b[1G[##################################--------------------------------] 8830/17210\u001b[1G[###################################-------------------------------] 9235/17210\u001b[1G[####################################------------------------------] 9505/17210\u001b[1G[######################################----------------------------] 9779/17210\u001b[1G[######################################---------------------------] 10189/17210\u001b[1G[########################################-------------------------] 10601/17210\u001b[1G[#########################################------------------------] 10844/17210\u001b[1G[##########################################-----------------------] 11084/17210\u001b[1G[###########################################----------------------] 11363/17210\u001b[1G[###########################################----------------------] 11418/17210\u001b[1G[############################################---------------------] 11619/17210\u001b[1G[#############################################--------------------] 11906/17210\u001b[1G[###############################################------------------] 12375/17210\u001b[1G[################################################-----------------] 12762/17210\u001b[1G[##################################################---------------] 13143/17210\u001b[1G[###################################################--------------] 13488/17210\u001b[1G[####################################################-------------] 13837/17210\u001b[1G[#####################################################------------] 14106/17210\u001b[1G[######################################################-----------] 14426/17210\u001b[1G[########################################################---------] 14696/17210\u001b[1G[#########################################################--------] 15055/17210\u001b[1G[##########################################################-------] 15385/17210\u001b[1G[############################################################-----] 15812/17210\u001b[1G[#############################################################----] 16182/17210\u001b[1G[##############################################################---] 16495/17210\u001b[1G[################################################################-] 16877/17210\u001b[1G[#################################################################] 17194/17210\u001b[2K\u001b[1G\u001b[2K\u001b[1G\u001b[1G[----------------------------------------------------------------------] 0/1619\u001b[1G[###############-----------------------------------------------------] 353/1619\u001b[1G[#########################-------------------------------------------] 587/1619\u001b[1G[#################################-----------------------------------] 775/1619\u001b[1G[#####################################-------------------------------] 892/1619\u001b[2K\u001b[1G\u001b[2m[5/5]\u001b[22m Building fresh packages...\n",
      "\u001b[1G[#######################################-----------------------------] 924/1619\u001b[1G⠁ \u001b[0K\u001b[1G\u001b[2m[1/1]\u001b[22m ⠂ core-js\u001b[0K\u001b[1G\u001b[2m[1/1]\u001b[22m ⠄ core-js\u001b[0K\u001b[1G\u001b[2m[1/1]\u001b[22m ⡀ core-js\u001b[0K\u001b[1G\u001b[2m[1/1]\u001b[22m ⢀ core-js\u001b[0K\u001b[1G\u001b[2m[1/1]\u001b[22m ⠠ core-js\u001b[0K\u001b[1G\u001b[2m[1/1]\u001b[22m ⠐ core-js\u001b[0K\u001b[1G\u001b[2m[1/1]\u001b[22m ⠈ core-js\u001b[0K\u001b[1G\u001b[2m[1/1]\u001b[22m ⠁ core-js\u001b[0K\u001b[1G\u001b[2m[1/1]\u001b[22m ⠂ core-js\u001b[0K\u001b[1G\u001b[2m[1/1]\u001b[22m ⠄ core-js\u001b[0K\u001b[2K\u001b[1G\u001b[2K\u001b[1G\u001b[32msuccess\u001b[39m Saved lockfile.\n",
      "\u001b[2K\u001b[1G\u001b[2K\u001b[1GDone in 59.95s.\n",
      "[LabBuildApp] > node /srv/conda/envs/notebook/lib/python3.7/site-packages/jupyterlab/staging/yarn.js run build\n",
      "\u001b[2K\u001b[1G\u001b[1myarn run v1.9.4\u001b[22m\n",
      "\u001b[2K\u001b[1G\u001b[2m$ webpack\u001b[22m\n",
      "Hash: \u001b[1me20c8c6d3189617967fd\u001b[39m\u001b[22m\n",
      "Version: webpack \u001b[1m4.12.2\u001b[39m\u001b[22m\n",
      "Time: \u001b[1m25382\u001b[39m\u001b[22mms\n",
      "Built at: 12/17/2019 \u001b[1m5:32:08 AM\u001b[39m\u001b[22m\n",
      "                                   \u001b[1mAsset\u001b[39m\u001b[22m       \u001b[1mSize\u001b[39m\u001b[22m        \u001b[1mChunks\u001b[39m\u001b[22m  \u001b[1m\u001b[39m\u001b[22m           \u001b[1m\u001b[39m\u001b[22m\u001b[1mChunk Names\u001b[39m\u001b[22m\n",
      "    \u001b[1m\u001b[32m674f50d287a8c48dc19ba404d20fe713.eot\u001b[39m\u001b[22m    162 KiB              \u001b[1m\u001b[39m\u001b[22m  \u001b[1m\u001b[32m[emitted]\u001b[39m\u001b[22m  \n",
      "  \u001b[1m\u001b[32maf7ae505a9eed503f8b8e6982036873e.woff2\u001b[39m\u001b[22m   75.4 KiB              \u001b[1m\u001b[39m\u001b[22m  \u001b[1m\u001b[32m[emitted]\u001b[39m\u001b[22m  \n",
      "    \u001b[1m\u001b[32m912ec66d7572ff821749319396470bde.svg\u001b[39m\u001b[22m    434 KiB              \u001b[1m\u001b[39m\u001b[22m  \u001b[1m\u001b[32m[emitted]\u001b[39m\u001b[22m  \n",
      "   \u001b[1m\u001b[32mfee66e712a8a08eef5805a46892932ad.woff\u001b[39m\u001b[22m   95.7 KiB              \u001b[1m\u001b[39m\u001b[22m  \u001b[1m\u001b[32m[emitted]\u001b[39m\u001b[22m  \n",
      "    \u001b[1m\u001b[32mb06871f281fee6b241d60582ae9369b9.ttf\u001b[39m\u001b[22m    162 KiB              \u001b[1m\u001b[39m\u001b[22m  \u001b[1m\u001b[32m[emitted]\u001b[39m\u001b[22m  \n",
      "            \u001b[1m\u001b[32mmain.851ebefd021c0a20717a.js\u001b[39m\u001b[22m   52.4 KiB          \u001b[1mmain\u001b[39m\u001b[22m  \u001b[1m\u001b[32m[emitted]\u001b[39m\u001b[22m  main\n",
      "               \u001b[1m\u001b[32m0.cc98107762fcc28532b3.js\u001b[39m\u001b[22m    4.5 KiB             \u001b[1m0\u001b[39m\u001b[22m  \u001b[1m\u001b[32m[emitted]\u001b[39m\u001b[22m  \n",
      "            \u001b[1m\u001b[32mvega.91b98e783d16fd1b9e23.js\u001b[39m\u001b[22m  519 bytes          \u001b[1mvega\u001b[39m\u001b[22m  \u001b[1m\u001b[32m[emitted]\u001b[39m\u001b[22m  vega\n",
      "    \u001b[1m\u001b[32mvendors~main.7581ef6347fa4dd881c9.js\u001b[39m\u001b[22m   8.22 MiB  \u001b[1mvendors~main\u001b[39m\u001b[22m  \u001b[1m\u001b[32m[emitted]\u001b[39m\u001b[22m  vendors~main\n",
      "    \u001b[1m\u001b[32mvendors~vega.eb37e6729557ee5feb92.js\u001b[39m\u001b[22m   3.26 MiB  \u001b[1mvendors~vega\u001b[39m\u001b[22m  \u001b[1m\u001b[32m[emitted]\u001b[39m\u001b[22m  vendors~vega\n",
      "               \u001b[1m\u001b[32m1.055322dcf6c2bb19185f.js\u001b[39m\u001b[22m    891 KiB             \u001b[1m1\u001b[39m\u001b[22m  \u001b[1m\u001b[32m[emitted]\u001b[39m\u001b[22m  \n",
      "        \u001b[1m\u001b[32mmain.851ebefd021c0a20717a.js.map\u001b[39m\u001b[22m   60.9 KiB          \u001b[1mmain\u001b[39m\u001b[22m  \u001b[1m\u001b[32m[emitted]\u001b[39m\u001b[22m  main\n",
      "           \u001b[1m\u001b[32m0.cc98107762fcc28532b3.js.map\u001b[39m\u001b[22m   5.73 KiB             \u001b[1m0\u001b[39m\u001b[22m  \u001b[1m\u001b[32m[emitted]\u001b[39m\u001b[22m  \n",
      "        \u001b[1m\u001b[32mvega.91b98e783d16fd1b9e23.js.map\u001b[39m\u001b[22m  251 bytes          \u001b[1mvega\u001b[39m\u001b[22m  \u001b[1m\u001b[32m[emitted]\u001b[39m\u001b[22m  vega\n",
      "\u001b[1m\u001b[32mvendors~main.7581ef6347fa4dd881c9.js.map\u001b[39m\u001b[22m   9.36 MiB  \u001b[1mvendors~main\u001b[39m\u001b[22m  \u001b[1m\u001b[32m[emitted]\u001b[39m\u001b[22m  vendors~main\n",
      "\u001b[1m\u001b[32mvendors~vega.eb37e6729557ee5feb92.js.map\u001b[39m\u001b[22m   2.61 MiB  \u001b[1mvendors~vega\u001b[39m\u001b[22m  \u001b[1m\u001b[32m[emitted]\u001b[39m\u001b[22m  vendors~vega\n",
      "           \u001b[1m\u001b[32m1.055322dcf6c2bb19185f.js.map\u001b[39m\u001b[22m   1.05 MiB             \u001b[1m1\u001b[39m\u001b[22m  \u001b[1m\u001b[32m[emitted]\u001b[39m\u001b[22m  \n",
      "                              \u001b[1m\u001b[32mindex.html\u001b[39m\u001b[22m   1.54 KiB              \u001b[1m\u001b[39m\u001b[22m  \u001b[1m\u001b[32m[emitted]\u001b[39m\u001b[22m  \n",
      "Entrypoint \u001b[1mmain\u001b[39m\u001b[22m = \u001b[1m\u001b[32mvendors~main.7581ef6347fa4dd881c9.js\u001b[39m\u001b[22m \u001b[1m\u001b[32mvendors~main.7581ef6347fa4dd881c9.js.map\u001b[39m\u001b[22m \u001b[1m\u001b[32mmain.851ebefd021c0a20717a.js\u001b[39m\u001b[22m \u001b[1m\u001b[32mmain.851ebefd021c0a20717a.js.map\u001b[39m\u001b[22m\n",
      " [0] \u001b[1mmulti whatwg-fetch ./build/index.out.js\u001b[39m\u001b[22m 40 bytes {\u001b[1m\u001b[33mmain\u001b[39m\u001b[22m}\u001b[1m\u001b[32m [built]\u001b[39m\u001b[22m\n",
      " [ANye] \u001b[1m./build/index.out.js\u001b[39m\u001b[22m 34.1 KiB {\u001b[1m\u001b[33mmain\u001b[39m\u001b[22m}\u001b[1m\u001b[32m [built]\u001b[39m\u001b[22m\n",
      " [yLpj] \u001b[1m(webpack)/buildin/global.js\u001b[39m\u001b[22m 489 bytes {\u001b[1m\u001b[33mvendors~main\u001b[39m\u001b[22m}\u001b[1m\u001b[32m [built]\u001b[39m\u001b[22m\n",
      " [1] \u001b[1mvertx (ignored)\u001b[39m\u001b[22m 15 bytes {\u001b[1m\u001b[33mmain\u001b[39m\u001b[22m}\u001b[1m\u001b[33m [optional]\u001b[39m\u001b[22m\u001b[1m\u001b[32m [built]\u001b[39m\u001b[22m\n",
      " [RnhZ] \u001b[1m./node_modules/moment/locale sync ^\\.\\/.*$\u001b[39m\u001b[22m 2.88 KiB {\u001b[1m\u001b[33mmain\u001b[39m\u001b[22m}\u001b[1m\u001b[33m [optional]\u001b[39m\u001b[22m\u001b[1m\u001b[32m [built]\u001b[39m\u001b[22m\n",
      " [YuTi] \u001b[1m(webpack)/buildin/module.js\u001b[39m\u001b[22m 497 bytes {\u001b[1m\u001b[33mvendors~main\u001b[39m\u001b[22m}\u001b[1m\u001b[32m [built]\u001b[39m\u001b[22m\n",
      " [eTbV] \u001b[1m./node_modules/codemirror/mode sync ^\\.\\/.*\\.js$\u001b[39m\u001b[22m 2.78 KiB {\u001b[1m\u001b[33m0\u001b[39m\u001b[22m}\u001b[1m\u001b[32m [built]\u001b[39m\u001b[22m\n",
      " [2] \u001b[1mutil (ignored)\u001b[39m\u001b[22m 15 bytes {\u001b[1m\u001b[33mmain\u001b[39m\u001b[22m}\u001b[1m\u001b[32m [built]\u001b[39m\u001b[22m\n",
      " [4] \u001b[1mbuffer (ignored)\u001b[39m\u001b[22m 15 bytes {\u001b[1m\u001b[33mmain\u001b[39m\u001b[22m}\u001b[1m\u001b[33m [optional]\u001b[39m\u001b[22m\u001b[1m\u001b[32m [built]\u001b[39m\u001b[22m\n",
      " [5] \u001b[1mcrypto (ignored)\u001b[39m\u001b[22m 15 bytes {\u001b[1m\u001b[33mmain\u001b[39m\u001b[22m}\u001b[1m\u001b[33m [optional]\u001b[39m\u001b[22m\u001b[1m\u001b[32m [built]\u001b[39m\u001b[22m\n",
      " [6] \u001b[1mreadable-stream (ignored)\u001b[39m\u001b[22m 15 bytes {\u001b[1m\u001b[33mmain\u001b[39m\u001b[22m}\u001b[1m\u001b[32m [built]\u001b[39m\u001b[22m\n",
      " [7] \u001b[1msupports-color (ignored)\u001b[39m\u001b[22m 15 bytes {\u001b[1m\u001b[33mmain\u001b[39m\u001b[22m}\u001b[1m\u001b[32m [built]\u001b[39m\u001b[22m\n",
      " [8] \u001b[1mchalk (ignored)\u001b[39m\u001b[22m 15 bytes {\u001b[1m\u001b[33mmain\u001b[39m\u001b[22m}\u001b[1m\u001b[32m [built]\u001b[39m\u001b[22m\n",
      "[10] \u001b[1mnode-fetch (ignored)\u001b[39m\u001b[22m 15 bytes {\u001b[1m\u001b[33mvega\u001b[39m\u001b[22m}\u001b[1m\u001b[32m [built]\u001b[39m\u001b[22m\n",
      "[11] \u001b[1mfs (ignored)\u001b[39m\u001b[22m 15 bytes {\u001b[1m\u001b[33mvega\u001b[39m\u001b[22m}\u001b[1m\u001b[32m [built]\u001b[39m\u001b[22m\n",
      "    + 2609 hidden modules\n",
      "\n",
      "\u001b[1m\u001b[33mWARNING in d3-array\n",
      "\u001b[0m  Multiple versions of \u001b[0m\u001b[32m\u001b[1md3-array\u001b[22m\u001b[39m\u001b[37m found:\u001b[39m\n",
      "\u001b[37m\u001b[39m    \u001b[32m\u001b[1m1.2.4\u001b[22m\u001b[39m \u001b[37m\u001b[1m./~/d3-scale/~/d3-array\u001b[22m\u001b[39m from \u001b[37m\u001b[1m./~/d3-scale/~/d3-array/src/index.js\u001b[22m\u001b[39m\n",
      "    \u001b[32m\u001b[1m2.4.0\u001b[22m\u001b[39m \u001b[37m\u001b[1m./~/d3-array\u001b[22m\u001b[39m from \u001b[37m\u001b[1m./~/d3-array/src/index.js\u001b[22m\u001b[39m\n",
      "\u001b[39m\u001b[22m\n",
      "\n",
      "\u001b[1m\u001b[33mWARNING in entities\n",
      "\u001b[0m  Multiple versions of \u001b[0m\u001b[32m\u001b[1mentities\u001b[22m\u001b[39m\u001b[37m found:\u001b[39m\n",
      "\u001b[37m\u001b[39m    \u001b[32m\u001b[1m1.1.2\u001b[22m\u001b[39m \u001b[37m\u001b[1m./~/entities\u001b[22m\u001b[39m from \u001b[37m\u001b[1m./~/htmlparser2/lib/Tokenizer.js\u001b[22m\u001b[39m\n",
      "    \u001b[32m\u001b[1m2.0.0\u001b[22m\u001b[39m \u001b[37m\u001b[1m./~/dom-serializer/~/entities\u001b[22m\u001b[39m from \u001b[37m\u001b[1m./~/dom-serializer/~/entities/lib/index.js\u001b[22m\u001b[39m\n",
      "\u001b[39m\u001b[22m\n",
      "\n",
      "\u001b[1m\u001b[33mWARNING in safe-buffer\n",
      "\u001b[0m  Multiple versions of \u001b[0m\u001b[32m\u001b[1msafe-buffer\u001b[22m\u001b[39m\u001b[37m found:\u001b[39m\n",
      "\u001b[37m\u001b[39m    \u001b[32m\u001b[1m5.1.2\u001b[22m\u001b[39m \u001b[37m\u001b[1m./~/readable-stream/~/safe-buffer\u001b[22m\u001b[39m from \u001b[37m\u001b[1m./~/readable-stream/lib/_stream_writable.js\u001b[22m\u001b[39m\n",
      "    \u001b[32m\u001b[1m5.2.0\u001b[22m\u001b[39m \u001b[37m\u001b[1m./~/safe-buffer\u001b[22m\u001b[39m from \u001b[37m\u001b[1m./~/string_decoder/lib/string_decoder.js\u001b[22m\u001b[39m\n",
      "\n",
      "\u001b[37m\u001b[1mCheck how you can resolve duplicate packages: \u001b[22m\u001b[39m\n",
      "https://github.com/darrenscerri/duplicate-package-checker-webpack-plugin#resolving-duplicate-packages-in-your-bundle\n",
      "\u001b[39m\u001b[22m\n",
      "Child \u001b[1mhtml-webpack-plugin for \"index.html\"\u001b[39m\u001b[22m:\n",
      "     1 asset\n",
      "    Entrypoint \u001b[1mundefined\u001b[39m\u001b[22m = \u001b[1m\u001b[32mindex.html\u001b[39m\u001b[22m\n",
      "    [KTNU] \u001b[1m./node_modules/html-loader!./templates/partial.html\u001b[39m\u001b[22m 567 bytes {\u001b[1m\u001b[33m0\u001b[39m\u001b[22m}\u001b[1m\u001b[32m [built]\u001b[39m\u001b[22m\n",
      "    [YuTi] \u001b[1m(webpack)/buildin/module.js\u001b[39m\u001b[22m 497 bytes {\u001b[1m\u001b[33m0\u001b[39m\u001b[22m}\u001b[1m\u001b[32m [built]\u001b[39m\u001b[22m\n",
      "    [aS2v] \u001b[1m./node_modules/html-webpack-plugin/lib/loader.js!./templates/template.html\u001b[39m\u001b[22m 1.22 KiB {\u001b[1m\u001b[33m0\u001b[39m\u001b[22m}\u001b[1m\u001b[32m [built]\u001b[39m\u001b[22m\n",
      "    [yLpj] \u001b[1m(webpack)/buildin/global.js\u001b[39m\u001b[22m 489 bytes {\u001b[1m\u001b[33m0\u001b[39m\u001b[22m}\u001b[1m\u001b[32m [built]\u001b[39m\u001b[22m\n",
      "        + 1 hidden module\n"
     ]
    },
    {
     "name": "stdout",
     "output_type": "stream",
     "text": [
      "\u001b[2K\u001b[1GDone in 27.20s.\r\n"
     ]
    }
   ],
   "source": [
    "!jupyter lab build"
   ]
  },
  {
   "cell_type": "code",
   "execution_count": 5,
   "metadata": {
    "scrolled": true
   },
   "outputs": [
    {
     "name": "stdout",
     "output_type": "stream",
     "text": [
      "Enabling: jupyterlab_git\r\n",
      "- Writing config: /home/jovyan/.jupyter\r\n",
      "    - Validating...\r\n",
      "      jupyterlab_git  \u001b[32mOK\u001b[0m\r\n"
     ]
    }
   ],
   "source": [
    "!jupyter serverextension enable --py jupyterlab_git"
   ]
  },
  {
   "cell_type": "markdown",
   "metadata": {},
   "source": [
    "## **EX03#**\n",
    "### *TODO*: Defining and class usage\n"
   ]
  },
  {
   "cell_type": "code",
   "execution_count": 6,
   "metadata": {},
   "outputs": [
    {
     "name": "stdout",
     "output_type": "stream",
     "text": [
      "{'Michael': 11, 'Andrew': 13, 'Joseph': 25, 'Lisa': 37, 'Dusty': 53, 'Erica': 72, 'Carol': 36, 'Robert': 89, 'Lawrence': 87, 'Margaret': 35}\n",
      "August\n"
     ]
    }
   ],
   "source": [
    "class Person:\n",
    "    def __init__(self, name, age, month):\n",
    "        self.name = name\n",
    "        self.age = age\n",
    "        self.birthday_month = month\n",
    "        \n",
    "    def birthday(self):\n",
    "        self.age += 1\n",
    "\n",
    "def create_person_objects(names, ages, months):\n",
    "    my_data = zip(names, ages, months)\n",
    "    person_objects = []\n",
    "    for item in my_data:\n",
    "        person_objects.append(Person(*item))\n",
    "    return person_objects\n",
    "\n",
    "def get_april_birthdays(people):\n",
    "\n",
    "    april_birthdays = {}\n",
    "\n",
    "    for friend in people:\n",
    "        if (friend.birthday_month == 'April'):\n",
    "            friend.birthday()\n",
    "            april_birthdays[friend.name] = friend.age\n",
    "    \n",
    "    return april_birthdays\n",
    "\n",
    "def get_most_common_month(people):\n",
    "\n",
    "    months = {'January':0, 'February':0, 'March':0, 'April':0, 'May':0, \n",
    "              'June':0, 'July':0, 'August':0, 'September':0, 'October':0,\n",
    "              'November':0, 'December':0}\n",
    "    \n",
    "    for friend in people:\n",
    "        months[friend.birthday_month] =  months[friend.birthday_month] + 1\n",
    "    \n",
    "    max_count = None\n",
    "    max_name_month = None\n",
    "    \n",
    "    for key in months:\n",
    "        if max_count == None or months[key] > max_count:\n",
    "            max_count = months[key]\n",
    "            max_name_month = key\n",
    "    \n",
    "    return max_name_month\n",
    "        \n",
    "\n",
    "\n",
    "def test():\n",
    "    \n",
    "    names = ['Howard', 'Richard', 'Jules', 'Trula', 'Michael', 'Elizabeth', 'Richard', 'Shirley', 'Mark', 'Brianna', 'Kenneth', 'Gwen', 'William', 'Rosa', 'Denver', 'Shelly', 'Sammy', 'Maryann', 'Kathleen', 'Andrew', 'Joseph', 'Kathleen', 'Lisa', 'Viola', 'George', 'Bonnie', 'Robert', 'William', 'Sabrina', 'John', 'Robert', 'Gil', 'Calvin', 'Robert', 'Dusty', 'Dario', 'Joeann', 'Terry', 'Alan', 'Rosa', 'Jeane', 'James', 'Rachel', 'Tu', 'Chelsea', 'Andrea', 'Ernest', 'Erica', 'Priscilla', 'Carol', 'Michael', 'Dale', 'Arthur', 'Helen', 'James', 'Donna', 'Patricia', 'Betty', 'Patricia', 'Mollie', 'Nicole', 'Ernest', 'Wendy', 'Graciela', 'Teresa', 'Nicole', 'Trang', 'Caleb', 'Robert', 'Paul', 'Nieves', 'Arleen', 'Milton', 'James', 'Lawrence', 'Edward', 'Susan', 'Patricia', 'Tana', 'Jessica', 'Suzanne', 'Darren', 'Arthur', 'Holly', 'Mary', 'Randal', 'John', 'Laura', 'Betty', 'Chelsea', 'Margaret', 'Angel', 'Jeffrey', 'Mary', 'Donald', 'David', 'Roger', 'Evan', 'Danny', 'William']\n",
    "    ages  = [17, 58, 79, 8, 10, 57, 4, 98, 19, 47, 81, 68, 48, 13, 39, 21, 98, 51, 49, 12, 24, 78, 36, 59, 3, 87, 94, 85, 43, 69, 15, 52, 57, 36, 52, 5, 52, 5, 33, 10, 71, 28, 70, 9, 25, 28, 76, 71, 22, 35, 35, 100, 9, 95, 69, 52, 66, 91, 39, 84, 65, 29, 20, 98, 30, 83, 30, 15, 88, 89, 24, 98, 62, 94, 86, 63, 34, 23, 23, 19, 10, 80, 88, 67, 17, 91, 85, 97, 29, 7, 34, 38, 92, 29, 14, 52, 94, 62, 70, 22]\n",
    "    months = ['January', 'March', 'January', 'October', 'April', 'February', 'August', 'January', 'June', 'August', 'February', 'May', 'March', 'June', 'February', 'August', 'June', 'March', 'August', 'April', 'April', 'June', 'April', 'June', 'February', 'September', 'March', 'July', 'September', 'December', 'June', 'June', 'August', 'November', 'April', 'November', 'August', 'June', 'January', 'August', 'May', 'March', 'March', 'March', 'May', 'September', 'August', 'April', 'February', 'April', 'May', 'March', 'March', 'January', 'August', 'October', 'February', 'November', 'August', 'June', 'September', 'September', 'January', 'September', 'July', 'July', 'December', 'June', 'April', 'February', 'August', 'September', 'August', 'February', 'April', 'July', 'May', 'November', 'December', 'February', 'August', 'August', 'September', 'December', 'February', 'March', 'June', 'December', 'February', 'May', 'April', 'July', 'March', 'June', 'December', 'March', 'July', 'May', 'September', 'November']\n",
    "    people = create_person_objects(names, ages, months)\n",
    "\n",
    "    print(get_april_birthdays(people))\n",
    "    print(get_most_common_month(people))\n",
    "\n",
    "\n",
    "\n",
    "test()"
   ]
  },
  {
   "cell_type": "markdown",
   "metadata": {},
   "source": [
    "#### Git Initialization"
   ]
  },
  {
   "cell_type": "code",
   "execution_count": 1,
   "metadata": {},
   "outputs": [
    {
     "name": "stdout",
     "output_type": "stream",
     "text": [
      "Reinitialized existing Git repository in /home/jovyan/.git/\r\n"
     ]
    }
   ],
   "source": [
    "!git init"
   ]
  },
  {
   "cell_type": "code",
   "execution_count": 2,
   "metadata": {},
   "outputs": [],
   "source": [
    "!git config --global user.name \"ankit\"\n",
    "!git config --global user.email \"jhaankit373@gmail.com\""
   ]
  },
  {
   "cell_type": "code",
   "execution_count": 3,
   "metadata": {},
   "outputs": [],
   "source": [
    "!git add -A"
   ]
  },
  {
   "cell_type": "code",
   "execution_count": 4,
   "metadata": {},
   "outputs": [
    {
     "name": "stdout",
     "output_type": "stream",
     "text": [
      "origin\tgit@github.com:ankit373/DS-A.git (fetch)\r\n",
      "origin\tgit@github.com:ankit373/DS-A.git (push)\r\n"
     ]
    }
   ],
   "source": [
    "!git remote -v"
   ]
  },
  {
   "cell_type": "code",
   "execution_count": 5,
   "metadata": {},
   "outputs": [],
   "source": [
    "!git remote set-url origin git@github.com:ankit373/DS-A.git"
   ]
  },
  {
   "cell_type": "code",
   "execution_count": 6,
   "metadata": {},
   "outputs": [
    {
     "name": "stdout",
     "output_type": "stream",
     "text": [
      "On branch master\r\n",
      "Your branch is ahead of 'origin/master' by 5 commits.\r\n",
      "  (use \"git push\" to publish your local commits)\r\n",
      "\r\n",
      "Changes to be committed:\r\n",
      "  (use \"git reset HEAD <file>...\" to unstage)\r\n",
      "\r\n",
      "\t\u001b[32mmodified:   .local/share/jupyter/nbsignatures.db\u001b[m\r\n",
      "\t\u001b[32mmodified:   Test1.ipynb\u001b[m\r\n",
      "\r\n"
     ]
    }
   ],
   "source": [
    "!git status"
   ]
  },
  {
   "cell_type": "code",
   "execution_count": 7,
   "metadata": {},
   "outputs": [
    {
     "name": "stdout",
     "output_type": "stream",
     "text": [
      "[master 4d69073] Updated through git!\r\n",
      " 2 files changed, 161 insertions(+), 8 deletions(-)\r\n"
     ]
    }
   ],
   "source": [
    "!git commit -m \"Updated through git!\""
   ]
  },
  {
   "cell_type": "code",
   "execution_count": 8,
   "metadata": {
    "scrolled": true
   },
   "outputs": [
    {
     "name": "stdout",
     "output_type": "stream",
     "text": [
      "origin\tgit@github.com:ankit373/DS-A.git (fetch)\r\n",
      "origin\tgit@github.com:ankit373/DS-A.git (push)\r\n"
     ]
    }
   ],
   "source": [
    "!git remote -v"
   ]
  },
  {
   "cell_type": "code",
   "execution_count": null,
   "metadata": {},
   "outputs": [],
   "source": [
    "!git push origin master"
   ]
  },
  {
   "cell_type": "code",
   "execution_count": null,
   "metadata": {},
   "outputs": [],
   "source": []
  },
  {
   "cell_type": "code",
   "execution_count": null,
   "metadata": {},
   "outputs": [],
   "source": []
  },
  {
   "cell_type": "code",
   "execution_count": null,
   "metadata": {},
   "outputs": [],
   "source": []
  }
 ],
 "metadata": {
  "kernelspec": {
   "display_name": "Python 3",
   "language": "python",
   "name": "python3"
  },
  "language_info": {
   "codemirror_mode": {
    "name": "ipython",
    "version": 3
   },
   "file_extension": ".py",
   "mimetype": "text/x-python",
   "name": "python",
   "nbconvert_exporter": "python",
   "pygments_lexer": "ipython3",
   "version": "3.7.3"
  }
 },
 "nbformat": 4,
 "nbformat_minor": 1
}
