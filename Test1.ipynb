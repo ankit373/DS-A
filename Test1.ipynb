{
  "nbformat": 4,
  "nbformat_minor": 0,
  "metadata": {
    "kernelspec": {
      "display_name": "Python 3",
      "language": "python",
      "name": "python3"
    },
    "language_info": {
      "codemirror_mode": {
        "name": "ipython",
        "version": 3
      },
      "file_extension": ".py",
      "mimetype": "text/x-python",
      "name": "python",
      "nbconvert_exporter": "python",
      "pygments_lexer": "ipython3",
      "version": "3.7.3"
    },
    "colab": {
      "name": "Test1.ipynb",
      "provenance": []
    }
  },
  "cells": [
    {
      "cell_type": "markdown",
      "metadata": {
        "id": "lGe8voPZdmSj",
        "colab_type": "text"
      },
      "source": [
        "## **EX01#**\n",
        "#### *TODO*: Define A control structure that finds the smallest posistive number in in_list and returns the correct smallest number."
      ]
    },
    {
      "cell_type": "code",
      "metadata": {
        "id": "bOqYGiQqdmSn",
        "colab_type": "code",
        "colab": {
          "base_uri": "https://localhost:8080/",
          "height": 51
        },
        "outputId": "43a331c4-d3a7-469d-bd3b-c8501c5b03dd"
      },
      "source": [
        "def smallest_positive(in_list):\n",
        "    smallest_pos = None\n",
        "    for num in in_list:\n",
        "        if num>0:\n",
        "            if smallest_pos==None or num < smallest_pos:\n",
        "                smallest_pos = num\n",
        "    return(smallest_pos)\n",
        "\n",
        "#testCase1\n",
        "print(smallest_positive([-1, 9, -12, 11, 13, 1, 3 ,6, 8, 9]))\n",
        "#testCase2\n",
        "print(smallest_positive([.72, .2, .11, -.273, 123, 832, 11]))\n"
      ],
      "execution_count": 2,
      "outputs": [
        {
          "output_type": "stream",
          "text": [
            "1\n",
            "0.11\n"
          ],
          "name": "stdout"
        }
      ]
    },
    {
      "cell_type": "markdown",
      "metadata": {
        "id": "CdQSX0NadmSt",
        "colab_type": "text"
      },
      "source": [
        "## **EX02#**\n",
        "#### *TODO*: Ex uses a data structure that stores semester course info\n",
        "The data structure format is:\n",
        "\n",
        "    { <semester>: {<class>: {<property>: <value1>, <value2>,........},\n",
        "                                        .......},\n",
        "        ........}"
      ]
    },
    {
      "cell_type": "code",
      "metadata": {
        "id": "6FFaFpZOdmSu",
        "colab_type": "code",
        "colab": {
          "base_uri": "https://localhost:8080/",
          "height": 51
        },
        "outputId": "ec6fe0cf-c154-4348-c655-161d3b597af5"
      },
      "source": [
        "courses = {\n",
        "    'spring2020': { 'cs101': {'name': 'Building a Search Engine',\n",
        "                           'teacher': 'Dave',\n",
        "                           'assistant': 'Peter C.'},\n",
        "                 'cs373': {'name': 'Programming a Robotic Car',\n",
        "                           'teacher': 'Sebastian',\n",
        "                           'assistant': 'Andy'}},\n",
        "    'fall2020': { 'cs101': {'name': 'Building a Search Engine',\n",
        "                           'teacher': 'Dave',\n",
        "                           'assistant': 'Sarah'},\n",
        "                 'cs212': {'name': 'The Design of Computer Programs',\n",
        "                           'teacher': 'Peter N.',\n",
        "                           'assistant': 'Andy',\n",
        "                           'prereq': 'cs101'},\n",
        "                 'cs253': {'name': 'Web Application Engineering - Building a Blog',\n",
        "                           'teacher': 'Steve',\n",
        "                           'prereq': 'cs101'},\n",
        "                 'cs262': {'name': 'Programming Languages - Building a Web Browser',\n",
        "                           'teacher': 'Wes',\n",
        "                           'assistant': 'Peter C.',\n",
        "                           'prereq': 'cs101'},\n",
        "                 'cs373': {'name': 'Programming a Robotic Car',\n",
        "                           'teacher': 'Sebastian'},\n",
        "                 'cs387': {'name': 'Applied Cryptography',\n",
        "                           'teacher': 'Dave'}},\n",
        "    'spring2044': { 'cs001': {'name': 'Building a Quantum Holodeck',\n",
        "                           'teacher': 'Dorina'},\n",
        "                        'cs003': {'name': 'Programming a Robotic Robotics Teacher',\n",
        "                           'teacher': 'Jasper'},\n",
        "                     }\n",
        "    }\n",
        "\n",
        "\n",
        "def when_offered(courses, course):\n",
        "    offered_list = []\n",
        "    for offered in courses:\n",
        "        course_info = courses[offered]\n",
        "        if course in course_info:\n",
        "            offered_list.append(offered)\n",
        "    return offered_list\n",
        "\n",
        "\n",
        "\n",
        "print(when_offered(courses, 'cs101'))\n",
        "print(when_offered(courses, 'bio893'))"
      ],
      "execution_count": 3,
      "outputs": [
        {
          "output_type": "stream",
          "text": [
            "['spring2020', 'fall2020']\n",
            "[]\n"
          ],
          "name": "stdout"
        }
      ]
    },
    {
      "cell_type": "code",
      "metadata": {
        "id": "6EfZP916dmS0",
        "colab_type": "code",
        "colab": {
          "base_uri": "https://localhost:8080/",
          "height": 989
        },
        "outputId": "7cd55839-af23-4753-ac2a-7d117122bfa2"
      },
      "source": [
        "!pip install --upgrade jupyterlab-git"
      ],
      "execution_count": 4,
      "outputs": [
        {
          "output_type": "stream",
          "text": [
            "Collecting jupyterlab-git\n",
            "\u001b[?25l  Downloading https://files.pythonhosted.org/packages/24/9b/ce8a9166a0ed945aada0703d0ebae3e98b539b45db0188e571c1d384e68d/jupyterlab_git-0.9.0-py3-none-any.whl (144kB)\n",
            "\r\u001b[K     |██▎                             | 10kB 17.4MB/s eta 0:00:01\r\u001b[K     |████▌                           | 20kB 3.0MB/s eta 0:00:01\r\u001b[K     |██████▉                         | 30kB 4.3MB/s eta 0:00:01\r\u001b[K     |█████████                       | 40kB 2.9MB/s eta 0:00:01\r\u001b[K     |███████████▍                    | 51kB 3.5MB/s eta 0:00:01\r\u001b[K     |█████████████▋                  | 61kB 4.2MB/s eta 0:00:01\r\u001b[K     |███████████████▉                | 71kB 4.8MB/s eta 0:00:01\r\u001b[K     |██████████████████▏             | 81kB 5.5MB/s eta 0:00:01\r\u001b[K     |████████████████████▍           | 92kB 4.3MB/s eta 0:00:01\r\u001b[K     |██████████████████████▊         | 102kB 4.7MB/s eta 0:00:01\r\u001b[K     |█████████████████████████       | 112kB 4.7MB/s eta 0:00:01\r\u001b[K     |███████████████████████████▏    | 122kB 4.7MB/s eta 0:00:01\r\u001b[K     |█████████████████████████████▌  | 133kB 4.7MB/s eta 0:00:01\r\u001b[K     |███████████████████████████████▊| 143kB 4.7MB/s eta 0:00:01\r\u001b[K     |████████████████████████████████| 153kB 4.7MB/s \n",
            "\u001b[?25hRequirement already satisfied, skipping upgrade: notebook in /usr/local/lib/python3.6/dist-packages (from jupyterlab-git) (5.2.2)\n",
            "Collecting nbdime>=1.1.0\n",
            "\u001b[?25l  Downloading https://files.pythonhosted.org/packages/0f/3f/668922f04fa6848437d8486c495ceea2fbe2b011e1084cb49a792c4bec31/nbdime-1.1.0-py2.py3-none-any.whl (4.3MB)\n",
            "\u001b[K     |████████████████████████████████| 4.3MB 44.3MB/s \n",
            "\u001b[?25hRequirement already satisfied, skipping upgrade: pexpect in /usr/local/lib/python3.6/dist-packages (from jupyterlab-git) (4.7.0)\n",
            "Requirement already satisfied, skipping upgrade: nbformat in /usr/local/lib/python3.6/dist-packages (from notebook->jupyterlab-git) (4.4.0)\n",
            "Requirement already satisfied, skipping upgrade: ipykernel in /usr/local/lib/python3.6/dist-packages (from notebook->jupyterlab-git) (4.6.1)\n",
            "Requirement already satisfied, skipping upgrade: jupyter-core in /usr/local/lib/python3.6/dist-packages (from notebook->jupyterlab-git) (4.6.1)\n",
            "Requirement already satisfied, skipping upgrade: traitlets>=4.2.1 in /usr/local/lib/python3.6/dist-packages (from notebook->jupyterlab-git) (4.3.3)\n",
            "Requirement already satisfied, skipping upgrade: terminado>=0.3.3; sys_platform != \"win32\" in /usr/local/lib/python3.6/dist-packages (from notebook->jupyterlab-git) (0.8.3)\n",
            "Requirement already satisfied, skipping upgrade: ipython-genutils in /usr/local/lib/python3.6/dist-packages (from notebook->jupyterlab-git) (0.2.0)\n",
            "Requirement already satisfied, skipping upgrade: tornado>=4 in /usr/local/lib/python3.6/dist-packages (from notebook->jupyterlab-git) (4.5.3)\n",
            "Requirement already satisfied, skipping upgrade: jinja2 in /usr/local/lib/python3.6/dist-packages (from notebook->jupyterlab-git) (2.10.3)\n",
            "Requirement already satisfied, skipping upgrade: jupyter-client in /usr/local/lib/python3.6/dist-packages (from notebook->jupyterlab-git) (5.3.4)\n",
            "Requirement already satisfied, skipping upgrade: nbconvert in /usr/local/lib/python3.6/dist-packages (from notebook->jupyterlab-git) (5.6.1)\n",
            "Requirement already satisfied, skipping upgrade: requests in /usr/local/lib/python3.6/dist-packages (from nbdime>=1.1.0->jupyterlab-git) (2.21.0)\n",
            "Requirement already satisfied, skipping upgrade: six in /usr/local/lib/python3.6/dist-packages (from nbdime>=1.1.0->jupyterlab-git) (1.12.0)\n",
            "Collecting colorama\n",
            "  Downloading https://files.pythonhosted.org/packages/c9/dc/45cdef1b4d119eb96316b3117e6d5708a08029992b2fee2c143c7a0a5cc5/colorama-0.4.3-py2.py3-none-any.whl\n",
            "Requirement already satisfied, skipping upgrade: pygments in /usr/local/lib/python3.6/dist-packages (from nbdime>=1.1.0->jupyterlab-git) (2.1.3)\n",
            "Collecting GitPython!=2.1.4,!=2.1.5,!=2.1.6\n",
            "\u001b[?25l  Downloading https://files.pythonhosted.org/packages/20/8c/4543981439d23c4ff65b2e62dddd767ebc84a8e664a9b67e840d1e2730d3/GitPython-3.0.5-py3-none-any.whl (455kB)\n",
            "\u001b[K     |████████████████████████████████| 460kB 48.2MB/s \n",
            "\u001b[?25hRequirement already satisfied, skipping upgrade: ptyprocess>=0.5 in /usr/local/lib/python3.6/dist-packages (from pexpect->jupyterlab-git) (0.6.0)\n",
            "Requirement already satisfied, skipping upgrade: jsonschema!=2.5.0,>=2.4 in /usr/local/lib/python3.6/dist-packages (from nbformat->notebook->jupyterlab-git) (2.6.0)\n",
            "Requirement already satisfied, skipping upgrade: ipython>=4.0.0 in /usr/local/lib/python3.6/dist-packages (from ipykernel->notebook->jupyterlab-git) (5.5.0)\n",
            "Requirement already satisfied, skipping upgrade: decorator in /usr/local/lib/python3.6/dist-packages (from traitlets>=4.2.1->notebook->jupyterlab-git) (4.4.1)\n",
            "Requirement already satisfied, skipping upgrade: MarkupSafe>=0.23 in /usr/local/lib/python3.6/dist-packages (from jinja2->notebook->jupyterlab-git) (1.1.1)\n",
            "Requirement already satisfied, skipping upgrade: python-dateutil>=2.1 in /usr/local/lib/python3.6/dist-packages (from jupyter-client->notebook->jupyterlab-git) (2.6.1)\n",
            "Requirement already satisfied, skipping upgrade: pyzmq>=13 in /usr/local/lib/python3.6/dist-packages (from jupyter-client->notebook->jupyterlab-git) (17.0.0)\n",
            "Requirement already satisfied, skipping upgrade: entrypoints>=0.2.2 in /usr/local/lib/python3.6/dist-packages (from nbconvert->notebook->jupyterlab-git) (0.3)\n",
            "Requirement already satisfied, skipping upgrade: bleach in /usr/local/lib/python3.6/dist-packages (from nbconvert->notebook->jupyterlab-git) (3.1.0)\n",
            "Requirement already satisfied, skipping upgrade: mistune<2,>=0.8.1 in /usr/local/lib/python3.6/dist-packages (from nbconvert->notebook->jupyterlab-git) (0.8.4)\n",
            "Requirement already satisfied, skipping upgrade: defusedxml in /usr/local/lib/python3.6/dist-packages (from nbconvert->notebook->jupyterlab-git) (0.6.0)\n",
            "Requirement already satisfied, skipping upgrade: testpath in /usr/local/lib/python3.6/dist-packages (from nbconvert->notebook->jupyterlab-git) (0.4.4)\n",
            "Requirement already satisfied, skipping upgrade: pandocfilters>=1.4.1 in /usr/local/lib/python3.6/dist-packages (from nbconvert->notebook->jupyterlab-git) (1.4.2)\n",
            "Requirement already satisfied, skipping upgrade: idna<2.9,>=2.5 in /usr/local/lib/python3.6/dist-packages (from requests->nbdime>=1.1.0->jupyterlab-git) (2.8)\n",
            "Requirement already satisfied, skipping upgrade: urllib3<1.25,>=1.21.1 in /usr/local/lib/python3.6/dist-packages (from requests->nbdime>=1.1.0->jupyterlab-git) (1.24.3)\n",
            "Requirement already satisfied, skipping upgrade: certifi>=2017.4.17 in /usr/local/lib/python3.6/dist-packages (from requests->nbdime>=1.1.0->jupyterlab-git) (2019.11.28)\n",
            "Requirement already satisfied, skipping upgrade: chardet<3.1.0,>=3.0.2 in /usr/local/lib/python3.6/dist-packages (from requests->nbdime>=1.1.0->jupyterlab-git) (3.0.4)\n",
            "Collecting gitdb2>=2.0.0\n",
            "\u001b[?25l  Downloading https://files.pythonhosted.org/packages/03/6c/99296f89bad2ef85626e1df9f677acbee8885bb043ad82ad3ed4746d2325/gitdb2-2.0.6-py2.py3-none-any.whl (63kB)\n",
            "\u001b[K     |████████████████████████████████| 71kB 9.2MB/s \n",
            "\u001b[?25hRequirement already satisfied, skipping upgrade: pickleshare in /usr/local/lib/python3.6/dist-packages (from ipython>=4.0.0->ipykernel->notebook->jupyterlab-git) (0.7.5)\n",
            "Requirement already satisfied, skipping upgrade: setuptools>=18.5 in /usr/local/lib/python3.6/dist-packages (from ipython>=4.0.0->ipykernel->notebook->jupyterlab-git) (42.0.2)\n",
            "Requirement already satisfied, skipping upgrade: simplegeneric>0.8 in /usr/local/lib/python3.6/dist-packages (from ipython>=4.0.0->ipykernel->notebook->jupyterlab-git) (0.8.1)\n",
            "Requirement already satisfied, skipping upgrade: prompt-toolkit<2.0.0,>=1.0.4 in /usr/local/lib/python3.6/dist-packages (from ipython>=4.0.0->ipykernel->notebook->jupyterlab-git) (1.0.18)\n",
            "Requirement already satisfied, skipping upgrade: webencodings in /usr/local/lib/python3.6/dist-packages (from bleach->nbconvert->notebook->jupyterlab-git) (0.5.1)\n",
            "Collecting smmap2>=2.0.0\n",
            "  Downloading https://files.pythonhosted.org/packages/55/d2/866d45e3a121ee15a1dc013824d58072fd5c7799c9c34d01378eb262ca8f/smmap2-2.0.5-py2.py3-none-any.whl\n",
            "Requirement already satisfied, skipping upgrade: wcwidth in /usr/local/lib/python3.6/dist-packages (from prompt-toolkit<2.0.0,>=1.0.4->ipython>=4.0.0->ipykernel->notebook->jupyterlab-git) (0.1.7)\n",
            "Installing collected packages: colorama, smmap2, gitdb2, GitPython, nbdime, jupyterlab-git\n",
            "Successfully installed GitPython-3.0.5 colorama-0.4.3 gitdb2-2.0.6 jupyterlab-git-0.9.0 nbdime-1.1.0 smmap2-2.0.5\n"
          ],
          "name": "stdout"
        }
      ]
    },
    {
      "cell_type": "code",
      "metadata": {
        "id": "TFGioGfbdmS4",
        "colab_type": "code",
        "colab": {
          "base_uri": "https://localhost:8080/",
          "height": 153
        },
        "outputId": "40a6d98a-2a76-49ad-a405-5760982dd927"
      },
      "source": [
        "!jupyter lab build"
      ],
      "execution_count": 5,
      "outputs": [
        {
          "output_type": "stream",
          "text": [
            "Traceback (most recent call last):\n",
            "  File \"/usr/local/bin/jupyter\", line 8, in <module>\n",
            "    sys.exit(main())\n",
            "  File \"/usr/local/lib/python2.7/dist-packages/jupyter_core/command.py\", line 230, in main\n",
            "    command = _jupyter_abspath(subcommand)\n",
            "  File \"/usr/local/lib/python2.7/dist-packages/jupyter_core/command.py\", line 133, in _jupyter_abspath\n",
            "    'Jupyter command `{}` not found.'.format(jupyter_subcommand)\n",
            "Exception: Jupyter command `jupyter-lab` not found.\n"
          ],
          "name": "stdout"
        }
      ]
    },
    {
      "cell_type": "code",
      "metadata": {
        "scrolled": true,
        "id": "yjpwqAEhdmS8",
        "colab_type": "code",
        "colab": {
          "base_uri": "https://localhost:8080/",
          "height": 357
        },
        "outputId": "94a26d67-df34-4f4f-c238-1d51b06c0611"
      },
      "source": [
        "!jupyter serverextension enable --py jupyterlab_git"
      ],
      "execution_count": 6,
      "outputs": [
        {
          "output_type": "stream",
          "text": [
            "Traceback (most recent call last):\n",
            "  File \"/usr/local/bin/jupyter-serverextension\", line 8, in <module>\n",
            "    sys.exit(main())\n",
            "  File \"/usr/local/lib/python2.7/dist-packages/jupyter_core/application.py\", line 267, in launch_instance\n",
            "    return super(JupyterApp, cls).launch_instance(argv=argv, **kwargs)\n",
            "  File \"/usr/local/lib/python2.7/dist-packages/traitlets/config/application.py\", line 658, in launch_instance\n",
            "    app.start()\n",
            "  File \"/usr/local/lib/python2.7/dist-packages/notebook/serverextensions.py\", line 293, in start\n",
            "    super(ServerExtensionApp, self).start()\n",
            "  File \"/usr/local/lib/python2.7/dist-packages/jupyter_core/application.py\", line 256, in start\n",
            "    self.subapp.start()\n",
            "  File \"/usr/local/lib/python2.7/dist-packages/notebook/serverextensions.py\", line 210, in start\n",
            "    self.toggle_server_extension_python(arg)\n",
            "  File \"/usr/local/lib/python2.7/dist-packages/notebook/serverextensions.py\", line 199, in toggle_server_extension_python\n",
            "    m, server_exts = _get_server_extension_metadata(package)\n",
            "  File \"/usr/local/lib/python2.7/dist-packages/notebook/serverextensions.py\", line 327, in _get_server_extension_metadata\n",
            "    m = import_item(module)\n",
            "  File \"/usr/local/lib/python2.7/dist-packages/traitlets/utils/importstring.py\", line 42, in import_item\n",
            "    return __import__(parts[0])\n",
            "ImportError: No module named jupyterlab_git\n"
          ],
          "name": "stdout"
        }
      ]
    },
    {
      "cell_type": "markdown",
      "metadata": {
        "id": "DssnTCx8dmTA",
        "colab_type": "text"
      },
      "source": [
        "## **EX03#**\n",
        "### *TODO*: Defining and class usage\n"
      ]
    },
    {
      "cell_type": "code",
      "metadata": {
        "id": "08PjHrImdmTC",
        "colab_type": "code",
        "colab": {
          "base_uri": "https://localhost:8080/",
          "height": 51
        },
        "outputId": "04042737-ee6b-469c-cb37-d7de03418c5b"
      },
      "source": [
        "class Person:\n",
        "    def __init__(self, name, age, month):\n",
        "        self.name = name\n",
        "        self.age = age\n",
        "        self.birthday_month = month\n",
        "        \n",
        "    def birthday(self):\n",
        "        self.age += 1\n",
        "\n",
        "def create_person_objects(names, ages, months):\n",
        "    my_data = zip(names, ages, months)\n",
        "    person_objects = []\n",
        "    for item in my_data:\n",
        "        person_objects.append(Person(*item))\n",
        "    return person_objects\n",
        "\n",
        "def get_april_birthdays(people):\n",
        "\n",
        "    april_birthdays = {}\n",
        "\n",
        "    for friend in people:\n",
        "        if (friend.birthday_month == 'April'):\n",
        "            friend.birthday()\n",
        "            april_birthdays[friend.name] = friend.age\n",
        "    \n",
        "    return april_birthdays\n",
        "\n",
        "def get_most_common_month(people):\n",
        "\n",
        "    months = {'January':0, 'February':0, 'March':0, 'April':0, 'May':0, \n",
        "              'June':0, 'July':0, 'August':0, 'September':0, 'October':0,\n",
        "              'November':0, 'December':0}\n",
        "    \n",
        "    for friend in people:\n",
        "        months[friend.birthday_month] =  months[friend.birthday_month] + 1\n",
        "    \n",
        "    max_count = None\n",
        "    max_name_month = None\n",
        "    \n",
        "    for key in months:\n",
        "        if max_count == None or months[key] > max_count:\n",
        "            max_count = months[key]\n",
        "            max_name_month = key\n",
        "    \n",
        "    return max_name_month\n",
        "        \n",
        "\n",
        "\n",
        "def test():\n",
        "    \n",
        "    names = ['Howard', 'Richard', 'Jules', 'Trula', 'Michael', 'Elizabeth', 'Richard', 'Shirley', 'Mark', 'Brianna', 'Kenneth', 'Gwen', 'William', 'Rosa', 'Denver', 'Shelly', 'Sammy', 'Maryann', 'Kathleen', 'Andrew', 'Joseph', 'Kathleen', 'Lisa', 'Viola', 'George', 'Bonnie', 'Robert', 'William', 'Sabrina', 'John', 'Robert', 'Gil', 'Calvin', 'Robert', 'Dusty', 'Dario', 'Joeann', 'Terry', 'Alan', 'Rosa', 'Jeane', 'James', 'Rachel', 'Tu', 'Chelsea', 'Andrea', 'Ernest', 'Erica', 'Priscilla', 'Carol', 'Michael', 'Dale', 'Arthur', 'Helen', 'James', 'Donna', 'Patricia', 'Betty', 'Patricia', 'Mollie', 'Nicole', 'Ernest', 'Wendy', 'Graciela', 'Teresa', 'Nicole', 'Trang', 'Caleb', 'Robert', 'Paul', 'Nieves', 'Arleen', 'Milton', 'James', 'Lawrence', 'Edward', 'Susan', 'Patricia', 'Tana', 'Jessica', 'Suzanne', 'Darren', 'Arthur', 'Holly', 'Mary', 'Randal', 'John', 'Laura', 'Betty', 'Chelsea', 'Margaret', 'Angel', 'Jeffrey', 'Mary', 'Donald', 'David', 'Roger', 'Evan', 'Danny', 'William']\n",
        "    ages  = [17, 58, 79, 8, 10, 57, 4, 98, 19, 47, 81, 68, 48, 13, 39, 21, 98, 51, 49, 12, 24, 78, 36, 59, 3, 87, 94, 85, 43, 69, 15, 52, 57, 36, 52, 5, 52, 5, 33, 10, 71, 28, 70, 9, 25, 28, 76, 71, 22, 35, 35, 100, 9, 95, 69, 52, 66, 91, 39, 84, 65, 29, 20, 98, 30, 83, 30, 15, 88, 89, 24, 98, 62, 94, 86, 63, 34, 23, 23, 19, 10, 80, 88, 67, 17, 91, 85, 97, 29, 7, 34, 38, 92, 29, 14, 52, 94, 62, 70, 22]\n",
        "    months = ['January', 'March', 'January', 'October', 'April', 'February', 'August', 'January', 'June', 'August', 'February', 'May', 'March', 'June', 'February', 'August', 'June', 'March', 'August', 'April', 'April', 'June', 'April', 'June', 'February', 'September', 'March', 'July', 'September', 'December', 'June', 'June', 'August', 'November', 'April', 'November', 'August', 'June', 'January', 'August', 'May', 'March', 'March', 'March', 'May', 'September', 'August', 'April', 'February', 'April', 'May', 'March', 'March', 'January', 'August', 'October', 'February', 'November', 'August', 'June', 'September', 'September', 'January', 'September', 'July', 'July', 'December', 'June', 'April', 'February', 'August', 'September', 'August', 'February', 'April', 'July', 'May', 'November', 'December', 'February', 'August', 'August', 'September', 'December', 'February', 'March', 'June', 'December', 'February', 'May', 'April', 'July', 'March', 'June', 'December', 'March', 'July', 'May', 'September', 'November']\n",
        "    people = create_person_objects(names, ages, months)\n",
        "\n",
        "    print(get_april_birthdays(people))\n",
        "    print(get_most_common_month(people))\n",
        "\n",
        "\n",
        "\n",
        "test()"
      ],
      "execution_count": 7,
      "outputs": [
        {
          "output_type": "stream",
          "text": [
            "{'Michael': 11, 'Andrew': 13, 'Joseph': 25, 'Lisa': 37, 'Dusty': 53, 'Erica': 72, 'Carol': 36, 'Robert': 89, 'Lawrence': 87, 'Margaret': 35}\n",
            "August\n"
          ],
          "name": "stdout"
        }
      ]
    },
    {
      "cell_type": "markdown",
      "metadata": {
        "id": "eEbFDL5ydmTJ",
        "colab_type": "text"
      },
      "source": [
        "#### Git Initialization"
      ]
    },
    {
      "cell_type": "code",
      "metadata": {
        "id": "WAMlN95-dmTK",
        "colab_type": "code",
        "colab": {
          "base_uri": "https://localhost:8080/",
          "height": 34
        },
        "outputId": "452c6ed8-f24e-4c7f-bd9e-55ce158fe775"
      },
      "source": [
        "!git init"
      ],
      "execution_count": 21,
      "outputs": [
        {
          "output_type": "stream",
          "text": [
            "Reinitialized existing Git repository in /content/.git/\n"
          ],
          "name": "stdout"
        }
      ]
    },
    {
      "cell_type": "code",
      "metadata": {
        "id": "zgiFsd7ZeaiF",
        "colab_type": "code",
        "colab": {
          "base_uri": "https://localhost:8080/",
          "height": 34
        },
        "outputId": "50953de2-4587-4f45-92c2-9a4d16dacf0c"
      },
      "source": [
        "!git remote add origin https://github.com/ankit373/DS-A.git"
      ],
      "execution_count": 22,
      "outputs": [
        {
          "output_type": "stream",
          "text": [
            "fatal: remote origin already exists.\n"
          ],
          "name": "stdout"
        }
      ]
    },
    {
      "cell_type": "code",
      "metadata": {
        "id": "041Ccq6IdmTO",
        "colab_type": "code",
        "colab": {}
      },
      "source": [
        "!git config --global user.name \"ankit\"\n",
        "!git config --global user.email \"jhaankit373@gmail.com\""
      ],
      "execution_count": 0,
      "outputs": []
    },
    {
      "cell_type": "code",
      "metadata": {
        "id": "H6gHI6JOdmTW",
        "colab_type": "code",
        "colab": {}
      },
      "source": [
        "!git add -A"
      ],
      "execution_count": 0,
      "outputs": []
    },
    {
      "cell_type": "code",
      "metadata": {
        "id": "bruKbdh_dmTa",
        "colab_type": "code",
        "colab": {}
      },
      "source": [
        ""
      ],
      "execution_count": 0,
      "outputs": []
    },
    {
      "cell_type": "code",
      "metadata": {
        "id": "D7p0EJGIdmTd",
        "colab_type": "code",
        "colab": {}
      },
      "source": [
        ""
      ],
      "execution_count": 0,
      "outputs": []
    },
    {
      "cell_type": "code",
      "metadata": {
        "id": "OvoSJxyRdmTg",
        "colab_type": "code",
        "colab": {
          "base_uri": "https://localhost:8080/",
          "height": 51
        },
        "outputId": "da48648a-4d6d-429c-8b6f-499cb2224972"
      },
      "source": [
        "!git status"
      ],
      "execution_count": 25,
      "outputs": [
        {
          "output_type": "stream",
          "text": [
            "On branch master\n",
            "nothing to commit, working tree clean\n"
          ],
          "name": "stdout"
        }
      ]
    },
    {
      "cell_type": "code",
      "metadata": {
        "id": "W7qEVrWodmTn",
        "colab_type": "code",
        "colab": {
          "base_uri": "https://localhost:8080/",
          "height": 51
        },
        "outputId": "29c17187-334e-442b-dcc1-04c839d3a07d"
      },
      "source": [
        "!git commit -m \"Updated through git!\""
      ],
      "execution_count": 26,
      "outputs": [
        {
          "output_type": "stream",
          "text": [
            "On branch master\n",
            "nothing to commit, working tree clean\n"
          ],
          "name": "stdout"
        }
      ]
    },
    {
      "cell_type": "code",
      "metadata": {
        "scrolled": true,
        "id": "fQnZmlnMdmTq",
        "colab_type": "code",
        "colab": {
          "base_uri": "https://localhost:8080/",
          "height": 51
        },
        "outputId": "2a2a3c28-acde-4911-ba68-b7b985c1cca9"
      },
      "source": [
        "!git remote -v"
      ],
      "execution_count": 27,
      "outputs": [
        {
          "output_type": "stream",
          "text": [
            "origin\thttps://github.com/ankit373/DS-A.git (fetch)\n",
            "origin\thttps://github.com/ankit373/DS-A.git (push)\n"
          ],
          "name": "stdout"
        }
      ]
    },
    {
      "cell_type": "code",
      "metadata": {
        "id": "DkJi53DIdmTx",
        "colab_type": "code",
        "colab": {}
      },
      "source": [
        ""
      ],
      "execution_count": 0,
      "outputs": []
    },
    {
      "cell_type": "markdown",
      "metadata": {
        "id": "FzFXLVIle3LS",
        "colab_type": "text"
      },
      "source": [
        "## **EX04#**\n",
        "### *TODO:* Given your Birthday and the current date. Calculate your age in days. Compensate for leap years. Assume that the birthday and the current day are correct dates(and no time travel). Simply put if you were born 1 Jan 2012 and today is 2 Jan 2012 then you are 1 day old."
      ]
    },
    {
      "cell_type": "code",
      "metadata": {
        "id": "lzCgo7Nzgzmz",
        "colab_type": "code",
        "colab": {}
      },
      "source": [
        "daysOfMonths = [31, 28, 31, 30, 31, 30, 31, 31, 30, 31, 30, 31]\n",
        "\n",
        "leap =0\n",
        "def isLeapYear(year):\n",
        "  if (year %4 == 0):\n",
        "    leap += 1\n",
        "  elif (year % 100 == 0):\n",
        "    \n",
        "  elif(year % 400 == 0):\n",
        "           return leap+1;"
      ],
      "execution_count": 0,
      "outputs": []
    }
  ]
}