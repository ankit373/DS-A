{
 "cells": [
  {
   "cell_type": "markdown",
   "metadata": {
    "collapsed": false
   },
   "source": [
    "## **EX01#**\n",
    "#### *TODO*: Define A control structure that finds the smallest posistive number in in_list and returns the correct smallest number."
   ]
  },
  {
   "cell_type": "code",
   "execution_count": 8,
   "metadata": {
    "collapsed": false
   },
   "outputs": [
    {
     "name": "stdout",
     "output_type": "stream",
     "text": [
      "1\n",
      "0.11\n"
     ]
    }
   ],
   "source": [
    "def smallest_positive(in_list):\n",
    "    smallest_pos = None\n",
    "    for num in in_list:\n",
    "        if num>0:\n",
    "            if smallest_pos==None or num < smallest_pos:\n",
    "                smallest_pos = num\n",
    "    return(smallest_pos)\n",
    "\n",
    "#testCase1\n",
    "print(smallest_positive([-1, 9, -12, 11, 13, 1, 3 ,6, 8, 9]))\n",
    "#testCase2\n",
    "print(smallest_positive([.72, .2, .11, -.273, 123, 832, 11]))\n"
   ]
  },
  {
   "cell_type": "markdown",
   "metadata": {
    "collapsed": false
   },
   "source": [
    "## **EX02#**\n",
    "#### *TODO*: Ex uses a data structure that stores semester course info\n",
    "The data structure format is:\n",
    "\n",
    "    { <semester>: {<class>: {<property>: <value1>, <value2>,........},\n",
    "                                        .......},\n",
    "        ........}"
   ]
  },
  {
   "cell_type": "code",
   "execution_count": 0,
   "metadata": {
    "collapsed": false
   },
   "outputs": [
   ],
   "source": [
   ]
  },
  {
   "cell_type": "code",
   "execution_count": 0,
   "metadata": {
    "collapsed": false
   },
   "outputs": [
   ],
   "source": [
   ]
  }
 ],
 "metadata": {
  "kernelspec": {
   "display_name": "Python 3 (system-wide)",
   "language": "python",
   "metadata": {
    "cocalc": {
     "description": "Python 3 programming language",
     "priority": 100,
     "url": "https://www.python.org/"
    }
   },
   "name": "python3"
  },
  "language_info": {
   "codemirror_mode": {
    "name": "ipython",
    "version": 3
   },
   "file_extension": ".py",
   "mimetype": "text/x-python",
   "name": "python",
   "nbconvert_exporter": "python",
   "pygments_lexer": "ipython3",
   "version": "3.6.9"
  }
 },
 "nbformat": 4,
 "nbformat_minor": 0
}