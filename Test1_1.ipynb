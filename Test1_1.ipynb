{
 "cells": [
  {
   "cell_type": "markdown",
   "metadata": {},
   "source": [
    "## **EX01#**\n",
    "#### *TODO*: Define A control structure that finds the smallest posistive number in in_list and returns the correct smallest number."
   ]
  },
  {
   "cell_type": "code",
   "execution_count": 2,
   "metadata": {},
   "outputs": [
    {
     "name": "stdout",
     "output_type": "stream",
     "text": [
      "1\n",
      "0.11\n"
     ]
    }
   ],
   "source": [
    "def smallest_positive(in_list):\n",
    "    smallest_pos = None\n",
    "    for num in in_list:\n",
    "        if num>0:\n",
    "            if smallest_pos==None or num < smallest_pos:\n",
    "                smallest_pos = num\n",
    "    return(smallest_pos)\n",
    "\n",
    "#testCase1\n",
    "print(smallest_positive([-1, 9, -12, 11, 13, 1, 3 ,6, 8, 9]))\n",
    "#testCase2\n",
    "print(smallest_positive([.72, .2, .11, -.273, 123, 832, 11]))\n"
   ]
  },
  {
   "cell_type": "markdown",
   "metadata": {},
   "source": [
    "## **EX02#**\n",
    "#### *TODO*: Ex uses a data structure that stores semester course info\n",
    "The data structure format is:\n",
    "\n",
    "    { <semester>: {<class>: {<property>: <value1>, <value2>,........},\n",
    "                                        .......},\n",
    "        ........}"
   ]
  },
  {
   "cell_type": "code",
   "execution_count": 3,
   "metadata": {},
   "outputs": [
    {
     "name": "stdout",
     "output_type": "stream",
     "text": [
      "['spring2020', 'fall2020']\n",
      "[]\n"
     ]
    }
   ],
   "source": [
    "courses = {\n",
    "    'spring2020': { 'cs101': {'name': 'Building a Search Engine',\n",
    "                           'teacher': 'Dave',\n",
    "                           'assistant': 'Peter C.'},\n",
    "                 'cs373': {'name': 'Programming a Robotic Car',\n",
    "                           'teacher': 'Sebastian',\n",
    "                           'assistant': 'Andy'}},\n",
    "    'fall2020': { 'cs101': {'name': 'Building a Search Engine',\n",
    "                           'teacher': 'Dave',\n",
    "                           'assistant': 'Sarah'},\n",
    "                 'cs212': {'name': 'The Design of Computer Programs',\n",
    "                           'teacher': 'Peter N.',\n",
    "                           'assistant': 'Andy',\n",
    "                           'prereq': 'cs101'},\n",
    "                 'cs253': {'name': 'Web Application Engineering - Building a Blog',\n",
    "                           'teacher': 'Steve',\n",
    "                           'prereq': 'cs101'},\n",
    "                 'cs262': {'name': 'Programming Languages - Building a Web Browser',\n",
    "                           'teacher': 'Wes',\n",
    "                           'assistant': 'Peter C.',\n",
    "                           'prereq': 'cs101'},\n",
    "                 'cs373': {'name': 'Programming a Robotic Car',\n",
    "                           'teacher': 'Sebastian'},\n",
    "                 'cs387': {'name': 'Applied Cryptography',\n",
    "                           'teacher': 'Dave'}},\n",
    "    'spring2044': { 'cs001': {'name': 'Building a Quantum Holodeck',\n",
    "                           'teacher': 'Dorina'},\n",
    "                        'cs003': {'name': 'Programming a Robotic Robotics Teacher',\n",
    "                           'teacher': 'Jasper'},\n",
    "                     }\n",
    "    }\n",
    "\n",
    "\n",
    "def when_offered(courses, course):\n",
    "    offered_list = []\n",
    "    for offered in courses:\n",
    "        course_info = courses[offered]\n",
    "        if course in course_info:\n",
    "            offered_list.append(offered)\n",
    "    return offered_list\n",
    "\n",
    "\n",
    "\n",
    "print(when_offered(courses, 'cs101'))\n",
    "print(when_offered(courses, 'bio893'))"
   ]
  },
  {
   "cell_type": "code",
   "execution_count": null,
   "metadata": {},
   "outputs": [],
   "source": []
  },
  {
   "cell_type": "code",
   "execution_count": null,
   "metadata": {},
   "outputs": [],
   "source": []
  }
 ],
 "metadata": {
  "kernelspec": {
   "display_name": "Python 3",
   "language": "python",
   "name": "python3"
  },
  "language_info": {
   "codemirror_mode": {
    "name": "ipython",
    "version": 3
   },
   "file_extension": ".py",
   "mimetype": "text/x-python",
   "name": "python",
   "nbconvert_exporter": "python",
   "pygments_lexer": "ipython3",
   "version": "3.7.3"
  }
 },
 "nbformat": 4,
 "nbformat_minor": 1
}
